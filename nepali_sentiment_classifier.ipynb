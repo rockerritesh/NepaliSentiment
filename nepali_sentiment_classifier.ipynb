{
  "nbformat": 4,
  "nbformat_minor": 0,
  "metadata": {
    "colab": {
      "name": "nepali_sentiment_classifier.ipynb",
      "provenance": [],
      "collapsed_sections": [],
      "authorship_tag": "ABX9TyNKvJmuYW//uBcWb706QELv"
    },
    "kernelspec": {
      "name": "python3",
      "display_name": "Python 3"
    },
    "language_info": {
      "name": "python"
    }
  },
  "cells": [
    {
      "cell_type": "code",
      "execution_count": 1,
      "metadata": {
        "id": "9Aiq6SBtu2Aa"
      },
      "outputs": [],
      "source": [
        "import pandas as pd\n",
        "import numpy as np\n",
        "import matplotlib.pyplot as plt\n",
        "\n",
        "from sklearn.feature_extraction.text import TfidfVectorizer\n",
        "from sklearn.feature_extraction.text import CountVectorizer\n",
        "from sklearn.preprocessing import LabelEncoder\n",
        "from sklearn.model_selection import cross_val_score\n",
        "from sklearn.svm import LinearSVC\n",
        "from sklearn.metrics import f1_score\n",
        "from sklearn.metrics import confusion_matrix"
      ]
    },
    {
      "cell_type": "code",
      "source": [
        "! git clone https://github.com/rockerritesh/NepaliSentiment"
      ],
      "metadata": {
        "colab": {
          "base_uri": "https://localhost:8080/"
        },
        "id": "mDb0h4J_cOkN",
        "outputId": "0f12febe-a8f1-41f8-9fd4-a23bb811b9b3"
      },
      "execution_count": 2,
      "outputs": [
        {
          "output_type": "stream",
          "name": "stdout",
          "text": [
            "Cloning into 'NepaliSentiment'...\n",
            "remote: Enumerating objects: 27, done.\u001b[K\n",
            "remote: Counting objects: 100% (27/27), done.\u001b[K\n",
            "remote: Compressing objects: 100% (23/23), done.\u001b[K\n",
            "remote: Total 27 (delta 7), reused 9 (delta 2), pack-reused 0\u001b[K\n",
            "Unpacking objects: 100% (27/27), done.\n"
          ]
        }
      ]
    },
    {
      "cell_type": "code",
      "source": [
        "# Reading the train, test\n",
        "\n",
        "df_train = pd.read_csv('/content/NepaliSentiment/train.csv',encoding='utf-8')\n",
        "df_test = pd.read_csv('/content/NepaliSentiment/test.csv',encoding='utf-8')"
      ],
      "metadata": {
        "id": "3sgn7qAAvFcx"
      },
      "execution_count": 3,
      "outputs": []
    },
    {
      "cell_type": "code",
      "source": [
        "df_train"
      ],
      "metadata": {
        "colab": {
          "base_uri": "https://localhost:8080/",
          "height": 424
        },
        "id": "tvvztHO1vFlH",
        "outputId": "5ccc4f3f-37b9-4039-a1e7-069053ded341"
      },
      "execution_count": 4,
      "outputs": [
        {
          "output_type": "execute_result",
          "data": {
            "text/html": [
              "\n",
              "  <div id=\"df-d1833765-6da1-4c64-ae95-cceaed3db85f\">\n",
              "    <div class=\"colab-df-container\">\n",
              "      <div>\n",
              "<style scoped>\n",
              "    .dataframe tbody tr th:only-of-type {\n",
              "        vertical-align: middle;\n",
              "    }\n",
              "\n",
              "    .dataframe tbody tr th {\n",
              "        vertical-align: top;\n",
              "    }\n",
              "\n",
              "    .dataframe thead th {\n",
              "        text-align: right;\n",
              "    }\n",
              "</style>\n",
              "<table border=\"1\" class=\"dataframe\">\n",
              "  <thead>\n",
              "    <tr style=\"text-align: right;\">\n",
              "      <th></th>\n",
              "      <th>text</th>\n",
              "      <th>label</th>\n",
              "    </tr>\n",
              "  </thead>\n",
              "  <tbody>\n",
              "    <tr>\n",
              "      <th>0</th>\n",
              "      <td>बजार ले जसरी ट्रेन्ड चेन्ज गर्यो यो हेर्दा तत्...</td>\n",
              "      <td>2</td>\n",
              "    </tr>\n",
              "    <tr>\n",
              "      <th>1</th>\n",
              "      <td>1000 अंकले घटेको नेप्से 200 अंकले बढ्नु ठूलो क...</td>\n",
              "      <td>1</td>\n",
              "    </tr>\n",
              "    <tr>\n",
              "      <th>2</th>\n",
              "      <td>होइन यो सानिमा बैंक ले bonus घोसणा गरेको २ महि...</td>\n",
              "      <td>2</td>\n",
              "    </tr>\n",
              "    <tr>\n",
              "      <th>3</th>\n",
              "      <td>खैँ MBJC प्रति कित्तामा रू,10/-ले बढेर आज रू,1...</td>\n",
              "      <td>2</td>\n",
              "    </tr>\n",
              "    <tr>\n",
              "      <th>4</th>\n",
              "      <td>राम्रो भयो️️</td>\n",
              "      <td>1</td>\n",
              "    </tr>\n",
              "    <tr>\n",
              "      <th>...</th>\n",
              "      <td>...</td>\n",
              "      <td>...</td>\n",
              "    </tr>\n",
              "    <tr>\n",
              "      <th>5995</th>\n",
              "      <td>समाज परिवर्तन गराउन लाई अरु को मुख हेर्ने भन्द...</td>\n",
              "      <td>1</td>\n",
              "    </tr>\n",
              "    <tr>\n",
              "      <th>5996</th>\n",
              "      <td>Filmy क्षेत्रमा धेरै गर्नु भयो,,अब समाज र देश ...</td>\n",
              "      <td>2</td>\n",
              "    </tr>\n",
              "    <tr>\n",
              "      <th>5997</th>\n",
              "      <td>यस्तै यस्तै कार्यक्रम अझ बढी हुन जरुरी छ कुना ...</td>\n",
              "      <td>2</td>\n",
              "    </tr>\n",
              "    <tr>\n",
              "      <th>5998</th>\n",
              "      <td>बधाई र सुभकामना ।।</td>\n",
              "      <td>1</td>\n",
              "    </tr>\n",
              "    <tr>\n",
              "      <th>5999</th>\n",
              "      <td>कार्यक्रम एकदमै सकारात्मक छ। निरन्तरता पाओस्।</td>\n",
              "      <td>1</td>\n",
              "    </tr>\n",
              "  </tbody>\n",
              "</table>\n",
              "<p>6000 rows × 2 columns</p>\n",
              "</div>\n",
              "      <button class=\"colab-df-convert\" onclick=\"convertToInteractive('df-d1833765-6da1-4c64-ae95-cceaed3db85f')\"\n",
              "              title=\"Convert this dataframe to an interactive table.\"\n",
              "              style=\"display:none;\">\n",
              "        \n",
              "  <svg xmlns=\"http://www.w3.org/2000/svg\" height=\"24px\"viewBox=\"0 0 24 24\"\n",
              "       width=\"24px\">\n",
              "    <path d=\"M0 0h24v24H0V0z\" fill=\"none\"/>\n",
              "    <path d=\"M18.56 5.44l.94 2.06.94-2.06 2.06-.94-2.06-.94-.94-2.06-.94 2.06-2.06.94zm-11 1L8.5 8.5l.94-2.06 2.06-.94-2.06-.94L8.5 2.5l-.94 2.06-2.06.94zm10 10l.94 2.06.94-2.06 2.06-.94-2.06-.94-.94-2.06-.94 2.06-2.06.94z\"/><path d=\"M17.41 7.96l-1.37-1.37c-.4-.4-.92-.59-1.43-.59-.52 0-1.04.2-1.43.59L10.3 9.45l-7.72 7.72c-.78.78-.78 2.05 0 2.83L4 21.41c.39.39.9.59 1.41.59.51 0 1.02-.2 1.41-.59l7.78-7.78 2.81-2.81c.8-.78.8-2.07 0-2.86zM5.41 20L4 18.59l7.72-7.72 1.47 1.35L5.41 20z\"/>\n",
              "  </svg>\n",
              "      </button>\n",
              "      \n",
              "  <style>\n",
              "    .colab-df-container {\n",
              "      display:flex;\n",
              "      flex-wrap:wrap;\n",
              "      gap: 12px;\n",
              "    }\n",
              "\n",
              "    .colab-df-convert {\n",
              "      background-color: #E8F0FE;\n",
              "      border: none;\n",
              "      border-radius: 50%;\n",
              "      cursor: pointer;\n",
              "      display: none;\n",
              "      fill: #1967D2;\n",
              "      height: 32px;\n",
              "      padding: 0 0 0 0;\n",
              "      width: 32px;\n",
              "    }\n",
              "\n",
              "    .colab-df-convert:hover {\n",
              "      background-color: #E2EBFA;\n",
              "      box-shadow: 0px 1px 2px rgba(60, 64, 67, 0.3), 0px 1px 3px 1px rgba(60, 64, 67, 0.15);\n",
              "      fill: #174EA6;\n",
              "    }\n",
              "\n",
              "    [theme=dark] .colab-df-convert {\n",
              "      background-color: #3B4455;\n",
              "      fill: #D2E3FC;\n",
              "    }\n",
              "\n",
              "    [theme=dark] .colab-df-convert:hover {\n",
              "      background-color: #434B5C;\n",
              "      box-shadow: 0px 1px 3px 1px rgba(0, 0, 0, 0.15);\n",
              "      filter: drop-shadow(0px 1px 2px rgba(0, 0, 0, 0.3));\n",
              "      fill: #FFFFFF;\n",
              "    }\n",
              "  </style>\n",
              "\n",
              "      <script>\n",
              "        const buttonEl =\n",
              "          document.querySelector('#df-d1833765-6da1-4c64-ae95-cceaed3db85f button.colab-df-convert');\n",
              "        buttonEl.style.display =\n",
              "          google.colab.kernel.accessAllowed ? 'block' : 'none';\n",
              "\n",
              "        async function convertToInteractive(key) {\n",
              "          const element = document.querySelector('#df-d1833765-6da1-4c64-ae95-cceaed3db85f');\n",
              "          const dataTable =\n",
              "            await google.colab.kernel.invokeFunction('convertToInteractive',\n",
              "                                                     [key], {});\n",
              "          if (!dataTable) return;\n",
              "\n",
              "          const docLinkHtml = 'Like what you see? Visit the ' +\n",
              "            '<a target=\"_blank\" href=https://colab.research.google.com/notebooks/data_table.ipynb>data table notebook</a>'\n",
              "            + ' to learn more about interactive tables.';\n",
              "          element.innerHTML = '';\n",
              "          dataTable['output_type'] = 'display_data';\n",
              "          await google.colab.output.renderOutput(dataTable, element);\n",
              "          const docLink = document.createElement('div');\n",
              "          docLink.innerHTML = docLinkHtml;\n",
              "          element.appendChild(docLink);\n",
              "        }\n",
              "      </script>\n",
              "    </div>\n",
              "  </div>\n",
              "  "
            ],
            "text/plain": [
              "                                                   text label\n",
              "0     बजार ले जसरी ट्रेन्ड चेन्ज गर्यो यो हेर्दा तत्...     2\n",
              "1     1000 अंकले घटेको नेप्से 200 अंकले बढ्नु ठूलो क...     1\n",
              "2     होइन यो सानिमा बैंक ले bonus घोसणा गरेको २ महि...     2\n",
              "3     खैँ MBJC प्रति कित्तामा रू,10/-ले बढेर आज रू,1...     2\n",
              "4                                          राम्रो भयो️️     1\n",
              "...                                                 ...   ...\n",
              "5995  समाज परिवर्तन गराउन लाई अरु को मुख हेर्ने भन्द...     1\n",
              "5996  Filmy क्षेत्रमा धेरै गर्नु भयो,,अब समाज र देश ...     2\n",
              "5997  यस्तै यस्तै कार्यक्रम अझ बढी हुन जरुरी छ कुना ...     2\n",
              "5998                                 बधाई र सुभकामना ।।     1\n",
              "5999      कार्यक्रम एकदमै सकारात्मक छ। निरन्तरता पाओस्।     1\n",
              "\n",
              "[6000 rows x 2 columns]"
            ]
          },
          "metadata": {},
          "execution_count": 4
        }
      ]
    },
    {
      "cell_type": "code",
      "source": [
        "df_test"
      ],
      "metadata": {
        "colab": {
          "base_uri": "https://localhost:8080/",
          "height": 424
        },
        "id": "GbpoZl-PTv8E",
        "outputId": "4387ea04-b573-48af-b839-6463d6d3cdfc"
      },
      "execution_count": 5,
      "outputs": [
        {
          "output_type": "execute_result",
          "data": {
            "text/html": [
              "\n",
              "  <div id=\"df-02cce63d-4821-42d4-a2a5-3d627592e7d6\">\n",
              "    <div class=\"colab-df-container\">\n",
              "      <div>\n",
              "<style scoped>\n",
              "    .dataframe tbody tr th:only-of-type {\n",
              "        vertical-align: middle;\n",
              "    }\n",
              "\n",
              "    .dataframe tbody tr th {\n",
              "        vertical-align: top;\n",
              "    }\n",
              "\n",
              "    .dataframe thead th {\n",
              "        text-align: right;\n",
              "    }\n",
              "</style>\n",
              "<table border=\"1\" class=\"dataframe\">\n",
              "  <thead>\n",
              "    <tr style=\"text-align: right;\">\n",
              "      <th></th>\n",
              "      <th>text</th>\n",
              "      <th>label</th>\n",
              "    </tr>\n",
              "  </thead>\n",
              "  <tbody>\n",
              "    <tr>\n",
              "      <th>0</th>\n",
              "      <td>असाध्यै राम्रो कार्यक्रम आयोजना गरिएको छ हजुरह...</td>\n",
              "      <td>1</td>\n",
              "    </tr>\n",
              "    <tr>\n",
              "      <th>1</th>\n",
              "      <td>राम्रो कार्यक्रम, पहिलो सिजनले समेटेको कार्यक्...</td>\n",
              "      <td>1</td>\n",
              "    </tr>\n",
              "    <tr>\n",
              "      <th>2</th>\n",
              "      <td>महानायक राजेश हमाल तपाई साँच्चै धन्यवादको पात्...</td>\n",
              "      <td>1</td>\n",
              "    </tr>\n",
              "    <tr>\n",
              "      <th>3</th>\n",
              "      <td>जातको प्रष्न बाट सबै जनालाई सकरात्मक सन्देश मि...</td>\n",
              "      <td>1</td>\n",
              "    </tr>\n",
              "    <tr>\n",
              "      <th>4</th>\n",
              "      <td>बहसको सुरुवात भएको छ, अझै जोडदार रुपमा गर्नुपर...</td>\n",
              "      <td>1</td>\n",
              "    </tr>\n",
              "    <tr>\n",
              "      <th>...</th>\n",
              "      <td>...</td>\n",
              "      <td>...</td>\n",
              "    </tr>\n",
              "    <tr>\n",
              "      <th>1991</th>\n",
              "      <td>कस्ता कस्ता पागल memory king छन यार नेपालमा</td>\n",
              "      <td>0</td>\n",
              "    </tr>\n",
              "    <tr>\n",
              "      <th>1992</th>\n",
              "      <td>दोस्रो मूर्ख बिजय साही हो</td>\n",
              "      <td>0</td>\n",
              "    </tr>\n",
              "    <tr>\n",
              "      <th>1993</th>\n",
              "      <td>बिजय शाहीलाई किन निरुत्साहित गरेको त पुण्य गौत...</td>\n",
              "      <td>0</td>\n",
              "    </tr>\n",
              "    <tr>\n",
              "      <th>1994</th>\n",
              "      <td>यस्ता बिदेशी महादलालीहरु कहाँ गएर यो प्रश्नको ...</td>\n",
              "      <td>0</td>\n",
              "    </tr>\n",
              "    <tr>\n",
              "      <th>1995</th>\n",
              "      <td>बुढा खालहरूमा बाँकि रहेको नेताहरुमा बाबुराम ज...</td>\n",
              "      <td>0</td>\n",
              "    </tr>\n",
              "  </tbody>\n",
              "</table>\n",
              "<p>1996 rows × 2 columns</p>\n",
              "</div>\n",
              "      <button class=\"colab-df-convert\" onclick=\"convertToInteractive('df-02cce63d-4821-42d4-a2a5-3d627592e7d6')\"\n",
              "              title=\"Convert this dataframe to an interactive table.\"\n",
              "              style=\"display:none;\">\n",
              "        \n",
              "  <svg xmlns=\"http://www.w3.org/2000/svg\" height=\"24px\"viewBox=\"0 0 24 24\"\n",
              "       width=\"24px\">\n",
              "    <path d=\"M0 0h24v24H0V0z\" fill=\"none\"/>\n",
              "    <path d=\"M18.56 5.44l.94 2.06.94-2.06 2.06-.94-2.06-.94-.94-2.06-.94 2.06-2.06.94zm-11 1L8.5 8.5l.94-2.06 2.06-.94-2.06-.94L8.5 2.5l-.94 2.06-2.06.94zm10 10l.94 2.06.94-2.06 2.06-.94-2.06-.94-.94-2.06-.94 2.06-2.06.94z\"/><path d=\"M17.41 7.96l-1.37-1.37c-.4-.4-.92-.59-1.43-.59-.52 0-1.04.2-1.43.59L10.3 9.45l-7.72 7.72c-.78.78-.78 2.05 0 2.83L4 21.41c.39.39.9.59 1.41.59.51 0 1.02-.2 1.41-.59l7.78-7.78 2.81-2.81c.8-.78.8-2.07 0-2.86zM5.41 20L4 18.59l7.72-7.72 1.47 1.35L5.41 20z\"/>\n",
              "  </svg>\n",
              "      </button>\n",
              "      \n",
              "  <style>\n",
              "    .colab-df-container {\n",
              "      display:flex;\n",
              "      flex-wrap:wrap;\n",
              "      gap: 12px;\n",
              "    }\n",
              "\n",
              "    .colab-df-convert {\n",
              "      background-color: #E8F0FE;\n",
              "      border: none;\n",
              "      border-radius: 50%;\n",
              "      cursor: pointer;\n",
              "      display: none;\n",
              "      fill: #1967D2;\n",
              "      height: 32px;\n",
              "      padding: 0 0 0 0;\n",
              "      width: 32px;\n",
              "    }\n",
              "\n",
              "    .colab-df-convert:hover {\n",
              "      background-color: #E2EBFA;\n",
              "      box-shadow: 0px 1px 2px rgba(60, 64, 67, 0.3), 0px 1px 3px 1px rgba(60, 64, 67, 0.15);\n",
              "      fill: #174EA6;\n",
              "    }\n",
              "\n",
              "    [theme=dark] .colab-df-convert {\n",
              "      background-color: #3B4455;\n",
              "      fill: #D2E3FC;\n",
              "    }\n",
              "\n",
              "    [theme=dark] .colab-df-convert:hover {\n",
              "      background-color: #434B5C;\n",
              "      box-shadow: 0px 1px 3px 1px rgba(0, 0, 0, 0.15);\n",
              "      filter: drop-shadow(0px 1px 2px rgba(0, 0, 0, 0.3));\n",
              "      fill: #FFFFFF;\n",
              "    }\n",
              "  </style>\n",
              "\n",
              "      <script>\n",
              "        const buttonEl =\n",
              "          document.querySelector('#df-02cce63d-4821-42d4-a2a5-3d627592e7d6 button.colab-df-convert');\n",
              "        buttonEl.style.display =\n",
              "          google.colab.kernel.accessAllowed ? 'block' : 'none';\n",
              "\n",
              "        async function convertToInteractive(key) {\n",
              "          const element = document.querySelector('#df-02cce63d-4821-42d4-a2a5-3d627592e7d6');\n",
              "          const dataTable =\n",
              "            await google.colab.kernel.invokeFunction('convertToInteractive',\n",
              "                                                     [key], {});\n",
              "          if (!dataTable) return;\n",
              "\n",
              "          const docLinkHtml = 'Like what you see? Visit the ' +\n",
              "            '<a target=\"_blank\" href=https://colab.research.google.com/notebooks/data_table.ipynb>data table notebook</a>'\n",
              "            + ' to learn more about interactive tables.';\n",
              "          element.innerHTML = '';\n",
              "          dataTable['output_type'] = 'display_data';\n",
              "          await google.colab.output.renderOutput(dataTable, element);\n",
              "          const docLink = document.createElement('div');\n",
              "          docLink.innerHTML = docLinkHtml;\n",
              "          element.appendChild(docLink);\n",
              "        }\n",
              "      </script>\n",
              "    </div>\n",
              "  </div>\n",
              "  "
            ],
            "text/plain": [
              "                                                   text label\n",
              "0     असाध्यै राम्रो कार्यक्रम आयोजना गरिएको छ हजुरह...     1\n",
              "1     राम्रो कार्यक्रम, पहिलो सिजनले समेटेको कार्यक्...     1\n",
              "2     महानायक राजेश हमाल तपाई साँच्चै धन्यवादको पात्...     1\n",
              "3     जातको प्रष्न बाट सबै जनालाई सकरात्मक सन्देश मि...     1\n",
              "4     बहसको सुरुवात भएको छ, अझै जोडदार रुपमा गर्नुपर...     1\n",
              "...                                                 ...   ...\n",
              "1991        कस्ता कस्ता पागल memory king छन यार नेपालमा     0\n",
              "1992                          दोस्रो मूर्ख बिजय साही हो     0\n",
              "1993  बिजय शाहीलाई किन निरुत्साहित गरेको त पुण्य गौत...     0\n",
              "1994  यस्ता बिदेशी महादलालीहरु कहाँ गएर यो प्रश्नको ...     0\n",
              "1995   बुढा खालहरूमा बाँकि रहेको नेताहरुमा बाबुराम ज...     0\n",
              "\n",
              "[1996 rows x 2 columns]"
            ]
          },
          "metadata": {},
          "execution_count": 5
        }
      ]
    },
    {
      "cell_type": "code",
      "source": [
        "df_train['label'].value_counts()"
      ],
      "metadata": {
        "colab": {
          "base_uri": "https://localhost:8080/"
        },
        "id": "iW5adhHVv1Um",
        "outputId": "6e34cd61-085b-4617-bd37-aa69928aece6"
      },
      "execution_count": 6,
      "outputs": [
        {
          "output_type": "execute_result",
          "data": {
            "text/plain": [
              "1     2378\n",
              "0     2377\n",
              "2     1236\n",
              "-        5\n",
              "20       1\n",
              "11       1\n",
              "o        1\n",
              "--       1\n",
              "Name: label, dtype: int64"
            ]
          },
          "metadata": {},
          "execution_count": 6
        }
      ]
    },
    {
      "cell_type": "code",
      "source": [
        "df_test['label'].value_counts()"
      ],
      "metadata": {
        "colab": {
          "base_uri": "https://localhost:8080/"
        },
        "id": "t_kDWqYqT0-r",
        "outputId": "2350ed2d-3e3f-4ae2-85b5-541a4c576a3b"
      },
      "execution_count": 7,
      "outputs": [
        {
          "output_type": "execute_result",
          "data": {
            "text/plain": [
              "1    888\n",
              "0    610\n",
              "2    496\n",
              "o      1\n",
              "-      1\n",
              "Name: label, dtype: int64"
            ]
          },
          "metadata": {},
          "execution_count": 7
        }
      ]
    },
    {
      "cell_type": "code",
      "source": [
        "plt.figure(figsize=(25,4))\n",
        "df_train['label'].value_counts().plot(kind='bar')\n",
        "plt.axis()\n",
        "plt.show()"
      ],
      "metadata": {
        "colab": {
          "base_uri": "https://localhost:8080/",
          "height": 268
        },
        "id": "y9K-UZxpvFqq",
        "outputId": "a0c87744-e8a4-4a5f-8ccf-ca73b907146a"
      },
      "execution_count": 8,
      "outputs": [
        {
          "output_type": "display_data",
          "data": {
            "image/png": "[encoded data removed]",
            "text/plain": [
              "<Figure size 1800x288 with 1 Axes>"
            ]
          },
          "metadata": {
            "needs_background": "light"
          }
        }
      ]
    },
    {
      "cell_type": "code",
      "source": [
        "df_train['label'].value_counts().shape"
      ],
      "metadata": {
        "colab": {
          "base_uri": "https://localhost:8080/"
        },
        "id": "BpAWfCVMvFu2",
        "outputId": "fc679eb5-d7fd-4446-b413-1e0d516b598d"
      },
      "execution_count": 9,
      "outputs": [
        {
          "output_type": "execute_result",
          "data": {
            "text/plain": [
              "(8,)"
            ]
          },
          "metadata": {},
          "execution_count": 9
        }
      ]
    },
    {
      "cell_type": "code",
      "source": [
        "df_train.dropna()\n",
        "df_test.dropna()"
      ],
      "metadata": {
        "id": "2P90BYQW0njq",
        "outputId": "010ab527-6bc1-45d2-be41-619dcffdb310",
        "colab": {
          "base_uri": "https://localhost:8080/",
          "height": 424
        }
      },
      "execution_count": 10,
      "outputs": [
        {
          "output_type": "execute_result",
          "data": {
            "text/html": [
              "\n",
              "  <div id=\"df-c5a31216-18a0-4577-9ec8-7ae4392479b5\">\n",
              "    <div class=\"colab-df-container\">\n",
              "      <div>\n",
              "<style scoped>\n",
              "    .dataframe tbody tr th:only-of-type {\n",
              "        vertical-align: middle;\n",
              "    }\n",
              "\n",
              "    .dataframe tbody tr th {\n",
              "        vertical-align: top;\n",
              "    }\n",
              "\n",
              "    .dataframe thead th {\n",
              "        text-align: right;\n",
              "    }\n",
              "</style>\n",
              "<table border=\"1\" class=\"dataframe\">\n",
              "  <thead>\n",
              "    <tr style=\"text-align: right;\">\n",
              "      <th></th>\n",
              "      <th>text</th>\n",
              "      <th>label</th>\n",
              "    </tr>\n",
              "  </thead>\n",
              "  <tbody>\n",
              "    <tr>\n",
              "      <th>0</th>\n",
              "      <td>असाध्यै राम्रो कार्यक्रम आयोजना गरिएको छ हजुरह...</td>\n",
              "      <td>1</td>\n",
              "    </tr>\n",
              "    <tr>\n",
              "      <th>1</th>\n",
              "      <td>राम्रो कार्यक्रम, पहिलो सिजनले समेटेको कार्यक्...</td>\n",
              "      <td>1</td>\n",
              "    </tr>\n",
              "    <tr>\n",
              "      <th>2</th>\n",
              "      <td>महानायक राजेश हमाल तपाई साँच्चै धन्यवादको पात्...</td>\n",
              "      <td>1</td>\n",
              "    </tr>\n",
              "    <tr>\n",
              "      <th>3</th>\n",
              "      <td>जातको प्रष्न बाट सबै जनालाई सकरात्मक सन्देश मि...</td>\n",
              "      <td>1</td>\n",
              "    </tr>\n",
              "    <tr>\n",
              "      <th>4</th>\n",
              "      <td>बहसको सुरुवात भएको छ, अझै जोडदार रुपमा गर्नुपर...</td>\n",
              "      <td>1</td>\n",
              "    </tr>\n",
              "    <tr>\n",
              "      <th>...</th>\n",
              "      <td>...</td>\n",
              "      <td>...</td>\n",
              "    </tr>\n",
              "    <tr>\n",
              "      <th>1991</th>\n",
              "      <td>कस्ता कस्ता पागल memory king छन यार नेपालमा</td>\n",
              "      <td>0</td>\n",
              "    </tr>\n",
              "    <tr>\n",
              "      <th>1992</th>\n",
              "      <td>दोस्रो मूर्ख बिजय साही हो</td>\n",
              "      <td>0</td>\n",
              "    </tr>\n",
              "    <tr>\n",
              "      <th>1993</th>\n",
              "      <td>बिजय शाहीलाई किन निरुत्साहित गरेको त पुण्य गौत...</td>\n",
              "      <td>0</td>\n",
              "    </tr>\n",
              "    <tr>\n",
              "      <th>1994</th>\n",
              "      <td>यस्ता बिदेशी महादलालीहरु कहाँ गएर यो प्रश्नको ...</td>\n",
              "      <td>0</td>\n",
              "    </tr>\n",
              "    <tr>\n",
              "      <th>1995</th>\n",
              "      <td>बुढा खालहरूमा बाँकि रहेको नेताहरुमा बाबुराम ज...</td>\n",
              "      <td>0</td>\n",
              "    </tr>\n",
              "  </tbody>\n",
              "</table>\n",
              "<p>1995 rows × 2 columns</p>\n",
              "</div>\n",
              "      <button class=\"colab-df-convert\" onclick=\"convertToInteractive('df-c5a31216-18a0-4577-9ec8-7ae4392479b5')\"\n",
              "              title=\"Convert this dataframe to an interactive table.\"\n",
              "              style=\"display:none;\">\n",
              "        \n",
              "  <svg xmlns=\"http://www.w3.org/2000/svg\" height=\"24px\"viewBox=\"0 0 24 24\"\n",
              "       width=\"24px\">\n",
              "    <path d=\"M0 0h24v24H0V0z\" fill=\"none\"/>\n",
              "    <path d=\"M18.56 5.44l.94 2.06.94-2.06 2.06-.94-2.06-.94-.94-2.06-.94 2.06-2.06.94zm-11 1L8.5 8.5l.94-2.06 2.06-.94-2.06-.94L8.5 2.5l-.94 2.06-2.06.94zm10 10l.94 2.06.94-2.06 2.06-.94-2.06-.94-.94-2.06-.94 2.06-2.06.94z\"/><path d=\"M17.41 7.96l-1.37-1.37c-.4-.4-.92-.59-1.43-.59-.52 0-1.04.2-1.43.59L10.3 9.45l-7.72 7.72c-.78.78-.78 2.05 0 2.83L4 21.41c.39.39.9.59 1.41.59.51 0 1.02-.2 1.41-.59l7.78-7.78 2.81-2.81c.8-.78.8-2.07 0-2.86zM5.41 20L4 18.59l7.72-7.72 1.47 1.35L5.41 20z\"/>\n",
              "  </svg>\n",
              "      </button>\n",
              "      \n",
              "  <style>\n",
              "    .colab-df-container {\n",
              "      display:flex;\n",
              "      flex-wrap:wrap;\n",
              "      gap: 12px;\n",
              "    }\n",
              "\n",
              "    .colab-df-convert {\n",
              "      background-color: #E8F0FE;\n",
              "      border: none;\n",
              "      border-radius: 50%;\n",
              "      cursor: pointer;\n",
              "      display: none;\n",
              "      fill: #1967D2;\n",
              "      height: 32px;\n",
              "      padding: 0 0 0 0;\n",
              "      width: 32px;\n",
              "    }\n",
              "\n",
              "    .colab-df-convert:hover {\n",
              "      background-color: #E2EBFA;\n",
              "      box-shadow: 0px 1px 2px rgba(60, 64, 67, 0.3), 0px 1px 3px 1px rgba(60, 64, 67, 0.15);\n",
              "      fill: #174EA6;\n",
              "    }\n",
              "\n",
              "    [theme=dark] .colab-df-convert {\n",
              "      background-color: #3B4455;\n",
              "      fill: #D2E3FC;\n",
              "    }\n",
              "\n",
              "    [theme=dark] .colab-df-convert:hover {\n",
              "      background-color: #434B5C;\n",
              "      box-shadow: 0px 1px 3px 1px rgba(0, 0, 0, 0.15);\n",
              "      filter: drop-shadow(0px 1px 2px rgba(0, 0, 0, 0.3));\n",
              "      fill: #FFFFFF;\n",
              "    }\n",
              "  </style>\n",
              "\n",
              "      <script>\n",
              "        const buttonEl =\n",
              "          document.querySelector('#df-c5a31216-18a0-4577-9ec8-7ae4392479b5 button.colab-df-convert');\n",
              "        buttonEl.style.display =\n",
              "          google.colab.kernel.accessAllowed ? 'block' : 'none';\n",
              "\n",
              "        async function convertToInteractive(key) {\n",
              "          const element = document.querySelector('#df-c5a31216-18a0-4577-9ec8-7ae4392479b5');\n",
              "          const dataTable =\n",
              "            await google.colab.kernel.invokeFunction('convertToInteractive',\n",
              "                                                     [key], {});\n",
              "          if (!dataTable) return;\n",
              "\n",
              "          const docLinkHtml = 'Like what you see? Visit the ' +\n",
              "            '<a target=\"_blank\" href=https://colab.research.google.com/notebooks/data_table.ipynb>data table notebook</a>'\n",
              "            + ' to learn more about interactive tables.';\n",
              "          element.innerHTML = '';\n",
              "          dataTable['output_type'] = 'display_data';\n",
              "          await google.colab.output.renderOutput(dataTable, element);\n",
              "          const docLink = document.createElement('div');\n",
              "          docLink.innerHTML = docLinkHtml;\n",
              "          element.appendChild(docLink);\n",
              "        }\n",
              "      </script>\n",
              "    </div>\n",
              "  </div>\n",
              "  "
            ],
            "text/plain": [
              "                                                   text label\n",
              "0     असाध्यै राम्रो कार्यक्रम आयोजना गरिएको छ हजुरह...     1\n",
              "1     राम्रो कार्यक्रम, पहिलो सिजनले समेटेको कार्यक्...     1\n",
              "2     महानायक राजेश हमाल तपाई साँच्चै धन्यवादको पात्...     1\n",
              "3     जातको प्रष्न बाट सबै जनालाई सकरात्मक सन्देश मि...     1\n",
              "4     बहसको सुरुवात भएको छ, अझै जोडदार रुपमा गर्नुपर...     1\n",
              "...                                                 ...   ...\n",
              "1991        कस्ता कस्ता पागल memory king छन यार नेपालमा     0\n",
              "1992                          दोस्रो मूर्ख बिजय साही हो     0\n",
              "1993  बिजय शाहीलाई किन निरुत्साहित गरेको त पुण्य गौत...     0\n",
              "1994  यस्ता बिदेशी महादलालीहरु कहाँ गएर यो प्रश्नको ...     0\n",
              "1995   बुढा खालहरूमा बाँकि रहेको नेताहरुमा बाबुराम ज...     0\n",
              "\n",
              "[1995 rows x 2 columns]"
            ]
          },
          "metadata": {},
          "execution_count": 10
        }
      ]
    },
    {
      "cell_type": "code",
      "source": [
        "df_train.drop(df_train[df_train['label'] == '-'].index, inplace = True)\n",
        "df_train.drop(df_train[df_train['label'] == '20'].index, inplace = True)\n",
        "df_train.drop(df_train[df_train['label'] == '11'].index, inplace = True)\n",
        "df_train.drop(df_train[df_train['label'] == 'o'].index, inplace = True)\n",
        "df_train.drop(df_train[df_train['label'] == '--'].index, inplace = True)"
      ],
      "metadata": {
        "id": "Ktz2SOcNvFx2"
      },
      "execution_count": 11,
      "outputs": []
    },
    {
      "cell_type": "code",
      "source": [
        "df_test.drop(df_test[df_test['label'] == '-'].index, inplace = True)\n",
        "df_test.drop(df_test[df_test['label'] == 'o'].index, inplace = True)"
      ],
      "metadata": {
        "id": "b226PLKTT6s4"
      },
      "execution_count": 12,
      "outputs": []
    },
    {
      "cell_type": "code",
      "source": [
        "df_test['label'].value_counts()"
      ],
      "metadata": {
        "colab": {
          "base_uri": "https://localhost:8080/"
        },
        "id": "XPJ-WkOSUIeQ",
        "outputId": "299b6973-6829-43c3-f071-79057880cc0b"
      },
      "execution_count": 13,
      "outputs": [
        {
          "output_type": "execute_result",
          "data": {
            "text/plain": [
              "1    888\n",
              "0    610\n",
              "2    496\n",
              "Name: label, dtype: int64"
            ]
          },
          "metadata": {},
          "execution_count": 13
        }
      ]
    },
    {
      "cell_type": "code",
      "source": [
        "df_train['label'].value_counts()"
      ],
      "metadata": {
        "colab": {
          "base_uri": "https://localhost:8080/"
        },
        "id": "1dIMjMaGvF09",
        "outputId": "fb37620e-2215-47b9-ed18-35dbc69e10aa"
      },
      "execution_count": 14,
      "outputs": [
        {
          "output_type": "execute_result",
          "data": {
            "text/plain": [
              "1    2378\n",
              "0    2377\n",
              "2    1236\n",
              "Name: label, dtype: int64"
            ]
          },
          "metadata": {},
          "execution_count": 14
        }
      ]
    },
    {
      "cell_type": "code",
      "source": [
        "plt.figure(figsize=(25,4))\n",
        "df_train['label'].value_counts().plot(kind='bar')\n",
        "plt.axis()\n",
        "plt.show()"
      ],
      "metadata": {
        "colab": {
          "base_uri": "https://localhost:8080/",
          "height": 262
        },
        "id": "c_HjjPehvF38",
        "outputId": "246ff727-3aa9-4dac-8403-18bc76aa9320"
      },
      "execution_count": null,
      "outputs": [
        {
          "output_type": "display_data",
          "data": {
            "image/png": "[encoded data removed]",
            "text/plain": [
              "<Figure size 1800x288 with 1 Axes>"
            ]
          },
          "metadata": {
            "needs_background": "light"
          }
        }
      ]
    },
    {
      "cell_type": "code",
      "source": [
        "df_train"
      ],
      "metadata": {
        "colab": {
          "base_uri": "https://localhost:8080/",
          "height": 424
        },
        "id": "eZTeJGDQ1ETe",
        "outputId": "553a67fb-5c9e-4fc0-e712-723444f74fc0"
      },
      "execution_count": null,
      "outputs": [
        {
          "output_type": "execute_result",
          "data": {
            "text/html": [
              "\n",
              "  <div id=\"df-15fcae1c-e8a0-4e03-a160-868db6d674f9\">\n",
              "    <div class=\"colab-df-container\">\n",
              "      <div>\n",
              "<style scoped>\n",
              "    .dataframe tbody tr th:only-of-type {\n",
              "        vertical-align: middle;\n",
              "    }\n",
              "\n",
              "    .dataframe tbody tr th {\n",
              "        vertical-align: top;\n",
              "    }\n",
              "\n",
              "    .dataframe thead th {\n",
              "        text-align: right;\n",
              "    }\n",
              "</style>\n",
              "<table border=\"1\" class=\"dataframe\">\n",
              "  <thead>\n",
              "    <tr style=\"text-align: right;\">\n",
              "      <th></th>\n",
              "      <th>text</th>\n",
              "      <th>label</th>\n",
              "    </tr>\n",
              "  </thead>\n",
              "  <tbody>\n",
              "    <tr>\n",
              "      <th>0</th>\n",
              "      <td>बजार ले जसरी ट्रेन्ड चेन्ज गर्यो यो हेर्दा तत्...</td>\n",
              "      <td>2</td>\n",
              "    </tr>\n",
              "    <tr>\n",
              "      <th>1</th>\n",
              "      <td>1000 अंकले घटेको नेप्से 200 अंकले बढ्नु ठूलो क...</td>\n",
              "      <td>1</td>\n",
              "    </tr>\n",
              "    <tr>\n",
              "      <th>2</th>\n",
              "      <td>होइन यो सानिमा बैंक ले bonus घोसणा गरेको २ महि...</td>\n",
              "      <td>2</td>\n",
              "    </tr>\n",
              "    <tr>\n",
              "      <th>3</th>\n",
              "      <td>खैँ MBJC प्रति कित्तामा रू,10/-ले बढेर आज रू,1...</td>\n",
              "      <td>2</td>\n",
              "    </tr>\n",
              "    <tr>\n",
              "      <th>4</th>\n",
              "      <td>राम्रो भयो️️</td>\n",
              "      <td>1</td>\n",
              "    </tr>\n",
              "    <tr>\n",
              "      <th>...</th>\n",
              "      <td>...</td>\n",
              "      <td>...</td>\n",
              "    </tr>\n",
              "    <tr>\n",
              "      <th>5995</th>\n",
              "      <td>समाज परिवर्तन गराउन लाई अरु को मुख हेर्ने भन्द...</td>\n",
              "      <td>1</td>\n",
              "    </tr>\n",
              "    <tr>\n",
              "      <th>5996</th>\n",
              "      <td>Filmy क्षेत्रमा धेरै गर्नु भयो,,अब समाज र देश ...</td>\n",
              "      <td>2</td>\n",
              "    </tr>\n",
              "    <tr>\n",
              "      <th>5997</th>\n",
              "      <td>यस्तै यस्तै कार्यक्रम अझ बढी हुन जरुरी छ कुना ...</td>\n",
              "      <td>2</td>\n",
              "    </tr>\n",
              "    <tr>\n",
              "      <th>5998</th>\n",
              "      <td>बधाई र सुभकामना ।।</td>\n",
              "      <td>1</td>\n",
              "    </tr>\n",
              "    <tr>\n",
              "      <th>5999</th>\n",
              "      <td>कार्यक्रम एकदमै सकारात्मक छ। निरन्तरता पाओस्।</td>\n",
              "      <td>1</td>\n",
              "    </tr>\n",
              "  </tbody>\n",
              "</table>\n",
              "<p>5991 rows × 2 columns</p>\n",
              "</div>\n",
              "      <button class=\"colab-df-convert\" onclick=\"convertToInteractive('df-15fcae1c-e8a0-4e03-a160-868db6d674f9')\"\n",
              "              title=\"Convert this dataframe to an interactive table.\"\n",
              "              style=\"display:none;\">\n",
              "        \n",
              "  <svg xmlns=\"http://www.w3.org/2000/svg\" height=\"24px\"viewBox=\"0 0 24 24\"\n",
              "       width=\"24px\">\n",
              "    <path d=\"M0 0h24v24H0V0z\" fill=\"none\"/>\n",
              "    <path d=\"M18.56 5.44l.94 2.06.94-2.06 2.06-.94-2.06-.94-.94-2.06-.94 2.06-2.06.94zm-11 1L8.5 8.5l.94-2.06 2.06-.94-2.06-.94L8.5 2.5l-.94 2.06-2.06.94zm10 10l.94 2.06.94-2.06 2.06-.94-2.06-.94-.94-2.06-.94 2.06-2.06.94z\"/><path d=\"M17.41 7.96l-1.37-1.37c-.4-.4-.92-.59-1.43-.59-.52 0-1.04.2-1.43.59L10.3 9.45l-7.72 7.72c-.78.78-.78 2.05 0 2.83L4 21.41c.39.39.9.59 1.41.59.51 0 1.02-.2 1.41-.59l7.78-7.78 2.81-2.81c.8-.78.8-2.07 0-2.86zM5.41 20L4 18.59l7.72-7.72 1.47 1.35L5.41 20z\"/>\n",
              "  </svg>\n",
              "      </button>\n",
              "      \n",
              "  <style>\n",
              "    .colab-df-container {\n",
              "      display:flex;\n",
              "      flex-wrap:wrap;\n",
              "      gap: 12px;\n",
              "    }\n",
              "\n",
              "    .colab-df-convert {\n",
              "      background-color: #E8F0FE;\n",
              "      border: none;\n",
              "      border-radius: 50%;\n",
              "      cursor: pointer;\n",
              "      display: none;\n",
              "      fill: #1967D2;\n",
              "      height: 32px;\n",
              "      padding: 0 0 0 0;\n",
              "      width: 32px;\n",
              "    }\n",
              "\n",
              "    .colab-df-convert:hover {\n",
              "      background-color: #E2EBFA;\n",
              "      box-shadow: 0px 1px 2px rgba(60, 64, 67, 0.3), 0px 1px 3px 1px rgba(60, 64, 67, 0.15);\n",
              "      fill: #174EA6;\n",
              "    }\n",
              "\n",
              "    [theme=dark] .colab-df-convert {\n",
              "      background-color: #3B4455;\n",
              "      fill: #D2E3FC;\n",
              "    }\n",
              "\n",
              "    [theme=dark] .colab-df-convert:hover {\n",
              "      background-color: #434B5C;\n",
              "      box-shadow: 0px 1px 3px 1px rgba(0, 0, 0, 0.15);\n",
              "      filter: drop-shadow(0px 1px 2px rgba(0, 0, 0, 0.3));\n",
              "      fill: #FFFFFF;\n",
              "    }\n",
              "  </style>\n",
              "\n",
              "      <script>\n",
              "        const buttonEl =\n",
              "          document.querySelector('#df-15fcae1c-e8a0-4e03-a160-868db6d674f9 button.colab-df-convert');\n",
              "        buttonEl.style.display =\n",
              "          google.colab.kernel.accessAllowed ? 'block' : 'none';\n",
              "\n",
              "        async function convertToInteractive(key) {\n",
              "          const element = document.querySelector('#df-15fcae1c-e8a0-4e03-a160-868db6d674f9');\n",
              "          const dataTable =\n",
              "            await google.colab.kernel.invokeFunction('convertToInteractive',\n",
              "                                                     [key], {});\n",
              "          if (!dataTable) return;\n",
              "\n",
              "          const docLinkHtml = 'Like what you see? Visit the ' +\n",
              "            '<a target=\"_blank\" href=https://colab.research.google.com/notebooks/data_table.ipynb>data table notebook</a>'\n",
              "            + ' to learn more about interactive tables.';\n",
              "          element.innerHTML = '';\n",
              "          dataTable['output_type'] = 'display_data';\n",
              "          await google.colab.output.renderOutput(dataTable, element);\n",
              "          const docLink = document.createElement('div');\n",
              "          docLink.innerHTML = docLinkHtml;\n",
              "          element.appendChild(docLink);\n",
              "        }\n",
              "      </script>\n",
              "    </div>\n",
              "  </div>\n",
              "  "
            ],
            "text/plain": [
              "                                                   text label\n",
              "0     बजार ले जसरी ट्रेन्ड चेन्ज गर्यो यो हेर्दा तत्...     2\n",
              "1     1000 अंकले घटेको नेप्से 200 अंकले बढ्नु ठूलो क...     1\n",
              "2     होइन यो सानिमा बैंक ले bonus घोसणा गरेको २ महि...     2\n",
              "3     खैँ MBJC प्रति कित्तामा रू,10/-ले बढेर आज रू,1...     2\n",
              "4                                          राम्रो भयो️️     1\n",
              "...                                                 ...   ...\n",
              "5995  समाज परिवर्तन गराउन लाई अरु को मुख हेर्ने भन्द...     1\n",
              "5996  Filmy क्षेत्रमा धेरै गर्नु भयो,,अब समाज र देश ...     2\n",
              "5997  यस्तै यस्तै कार्यक्रम अझ बढी हुन जरुरी छ कुना ...     2\n",
              "5998                                 बधाई र सुभकामना ।।     1\n",
              "5999      कार्यक्रम एकदमै सकारात्मक छ। निरन्तरता पाओस्।     1\n",
              "\n",
              "[5991 rows x 2 columns]"
            ]
          },
          "metadata": {},
          "execution_count": 123
        }
      ]
    },
    {
      "cell_type": "code",
      "source": [
        "X_train, y_train = df_train['text'],df_train['label']\n",
        "X_test, y_test = df_test['text'],df_test['label']"
      ],
      "metadata": {
        "id": "7G5It2jFvF7B"
      },
      "execution_count": 15,
      "outputs": []
    },
    {
      "cell_type": "code",
      "source": [
        "y_train"
      ],
      "metadata": {
        "colab": {
          "base_uri": "https://localhost:8080/"
        },
        "id": "vSi0PinVS_Y5",
        "outputId": "c7dba299-a5bb-4682-986c-8557c4fa1528"
      },
      "execution_count": null,
      "outputs": [
        {
          "output_type": "execute_result",
          "data": {
            "text/plain": [
              "0       2\n",
              "1       1\n",
              "2       2\n",
              "3       2\n",
              "4       1\n",
              "       ..\n",
              "5995    1\n",
              "5996    2\n",
              "5997    2\n",
              "5998    1\n",
              "5999    1\n",
              "Name: label, Length: 5991, dtype: object"
            ]
          },
          "metadata": {},
          "execution_count": 125
        }
      ]
    },
    {
      "cell_type": "code",
      "source": [
        "X_test"
      ],
      "metadata": {
        "colab": {
          "base_uri": "https://localhost:8080/"
        },
        "id": "UZYSpXNhS_mg",
        "outputId": "23348152-c2de-4387-b3b9-3888a7197845"
      },
      "execution_count": null,
      "outputs": [
        {
          "output_type": "execute_result",
          "data": {
            "text/plain": [
              "0       असाध्यै राम्रो कार्यक्रम आयोजना गरिएको छ हजुरह...\n",
              "1       राम्रो कार्यक्रम, पहिलो सिजनले समेटेको कार्यक्...\n",
              "2       महानायक राजेश हमाल तपाई साँच्चै धन्यवादको पात्...\n",
              "3       जातको प्रष्न बाट सबै जनालाई सकरात्मक सन्देश मि...\n",
              "4       बहसको सुरुवात भएको छ, अझै जोडदार रुपमा गर्नुपर...\n",
              "                              ...                        \n",
              "1991          कस्ता कस्ता पागल memory king छन यार नेपालमा\n",
              "1992                            दोस्रो मूर्ख बिजय साही हो\n",
              "1993    बिजय शाहीलाई किन निरुत्साहित गरेको त पुण्य गौत...\n",
              "1994    यस्ता बिदेशी महादलालीहरु कहाँ गएर यो प्रश्नको ...\n",
              "1995     बुढा खालहरूमा बाँकि रहेको नेताहरुमा बाबुराम ज...\n",
              "Name: text, Length: 1994, dtype: object"
            ]
          },
          "metadata": {},
          "execution_count": 126
        }
      ]
    },
    {
      "cell_type": "code",
      "source": [
        "X_train"
      ],
      "metadata": {
        "colab": {
          "base_uri": "https://localhost:8080/"
        },
        "id": "WwJvXnMsvF9Y",
        "outputId": "7f238ac2-d8f3-4687-ccfe-09ab5471af1a"
      },
      "execution_count": null,
      "outputs": [
        {
          "output_type": "execute_result",
          "data": {
            "text/plain": [
              "0       बजार ले जसरी ट्रेन्ड चेन्ज गर्यो यो हेर्दा तत्...\n",
              "1       1000 अंकले घटेको नेप्से 200 अंकले बढ्नु ठूलो क...\n",
              "2       होइन यो सानिमा बैंक ले bonus घोसणा गरेको २ महि...\n",
              "3       खैँ MBJC प्रति कित्तामा रू,10/-ले बढेर आज रू,1...\n",
              "4                                            राम्रो भयो️️\n",
              "                              ...                        \n",
              "5995    समाज परिवर्तन गराउन लाई अरु को मुख हेर्ने भन्द...\n",
              "5996    Filmy क्षेत्रमा धेरै गर्नु भयो,,अब समाज र देश ...\n",
              "5997    यस्तै यस्तै कार्यक्रम अझ बढी हुन जरुरी छ कुना ...\n",
              "5998                                   बधाई र सुभकामना ।।\n",
              "5999        कार्यक्रम एकदमै सकारात्मक छ। निरन्तरता पाओस्।\n",
              "Name: text, Length: 5991, dtype: object"
            ]
          },
          "metadata": {},
          "execution_count": 127
        }
      ]
    },
    {
      "cell_type": "code",
      "source": [
        "import nltk\n",
        "nltk.download('stopwords')"
      ],
      "metadata": {
        "colab": {
          "base_uri": "https://localhost:8080/"
        },
        "id": "hK5y_pdF2Tix",
        "outputId": "cb807ee5-403d-4a77-91e2-51d2e5307a5e"
      },
      "execution_count": 16,
      "outputs": [
        {
          "output_type": "stream",
          "name": "stdout",
          "text": [
            "[nltk_data] Downloading package stopwords to /root/nltk_data...\n",
            "[nltk_data]   Unzipping corpora/stopwords.zip.\n"
          ]
        },
        {
          "output_type": "execute_result",
          "data": {
            "text/plain": [
              "True"
            ]
          },
          "metadata": {},
          "execution_count": 16
        }
      ]
    },
    {
      "cell_type": "code",
      "source": [
        "!ls /root/nltk_data/corpora/stopwords"
      ],
      "metadata": {
        "colab": {
          "base_uri": "https://localhost:8080/"
        },
        "id": "zQBzZm5r58a2",
        "outputId": "39115237-889b-4ab2-a3b1-41f29fcb485e"
      },
      "execution_count": 17,
      "outputs": [
        {
          "output_type": "stream",
          "name": "stdout",
          "text": [
            "arabic\t     dutch    german\t  italian    portuguese  slovene  turkish\n",
            "azerbaijani  english  greek\t  kazakh     README\t spanish\n",
            "bengali      finnish  hungarian   nepali     romanian\t swedish\n",
            "danish\t     french   indonesian  norwegian  russian\t tajik\n"
          ]
        }
      ]
    },
    {
      "cell_type": "code",
      "source": [
        "X_train=X_train.values.astype('U')\n",
        "X_test=X_test.values.astype('U')"
      ],
      "metadata": {
        "id": "GK2OhEQX8erE"
      },
      "execution_count": 18,
      "outputs": []
    },
    {
      "cell_type": "code",
      "source": [
        "#X_train"
      ],
      "metadata": {
        "id": "pp_CUppn8k4r"
      },
      "execution_count": 19,
      "outputs": []
    },
    {
      "cell_type": "code",
      "source": [
        "from sklearn.feature_extraction.text import CountVectorizer\n",
        "from nltk.corpus import stopwords\n",
        "\n",
        "#stopwords_list = stopwords.words('english') + stopwords.words('nepali')\n",
        "\n",
        "stopWords = nltk.corpus.stopwords.words('/content/NepaliSentiment/nepali')\n",
        "\n",
        "cv_doc = CountVectorizer(max_features=20000,stop_words=stopWords ,ngram_range=(1,1), min_df=3,encoding='utf-8')\n",
        "cv_vector = cv_doc.fit(X_train)"
      ],
      "metadata": {
        "colab": {
          "base_uri": "https://localhost:8080/"
        },
        "id": "_7rmG3b1vGAX",
        "outputId": "fe31bf28-d374-45bd-ebbb-a56208212489"
      },
      "execution_count": 25,
      "outputs": [
        {
          "output_type": "stream",
          "name": "stderr",
          "text": [
            "/usr/local/lib/python3.7/dist-packages/sklearn/feature_extraction/text.py:401: UserWarning: Your stop_words may be inconsistent with your preprocessing. Tokenizing the stop words generated tokens ['अक', 'अग', 'अझ', 'अन', 'अर', 'आजक', 'आत', 'आद', 'आफ', 'आय', 'ईक', 'उद', 'उनक', 'उनल', 'उह', 'एउट', 'एन', 'कत', 'कस', 'कसर', 'कह', 'गत', 'गय', 'गर', 'चम', 'छन', 'जत', 'जबक', 'जस', 'जसक', 'जसब', 'जसम', 'जसल', 'जह', 'तत', 'तथ', 'तदन', 'तप', 'तवम', 'नज', 'नत', 'नभन', 'नय', 'पक', 'पछ', 'पन', 'पय', 'पर', 'पष', 'पह', 'बन', 'बर', 'भएक', 'भय', 'भव', 'मल', 'यत', 'यथ', 'यद', 'यप', 'यसक', 'यसपछ', 'यसब', 'यसर', 'यह', 'रण', 'रत', 'रमश', 'रह', 'लस', 'वर', 'सक', 'सट', 'सध', 'सपछ', 'सब', 'सम', 'सर', 'सह', 'हन', 'हर', 'हरण'] not in stop_words.\n",
            "  % sorted(inconsistent)\n"
          ]
        }
      ]
    },
    {
      "cell_type": "code",
      "source": [
        "from nltk.corpus import stopwords\n",
        "#from nltk import TweetTokenizer\n",
        "#tokenizer = TweetTokenizer()"
      ],
      "metadata": {
        "id": "L_Wkao4XNcos"
      },
      "execution_count": 24,
      "outputs": []
    },
    {
      "cell_type": "code",
      "source": [
        "stopWords = nltk.corpus.stopwords.words('/content/NepaliSentiment/nepali') + stopwords.words('english') + nltk.corpus.stopwords.words('/content/NepaliSentiment/hindi')\n",
        "\n",
        "tfidfVectorizer = TfidfVectorizer(max_features=35000,tokenizer=lambda x: x.split(\" \") ,sublinear_tf=True, encoding='utf-8',decode_error='ignore',ngram_range=(1, 1),stop_words=stopWords)\n",
        "\n",
        "vectorised = tfidfVectorizer.fit(X_train)"
      ],
      "metadata": {
        "colab": {
          "base_uri": "https://localhost:8080/"
        },
        "id": "Zlg2jpCcgkC6",
        "outputId": "cf532307-7e79-4b38-abf7-1a60ca9ff8b0"
      },
      "execution_count": 26,
      "outputs": [
        {
          "output_type": "stream",
          "name": "stderr",
          "text": [
            "/usr/local/lib/python3.7/dist-packages/sklearn/feature_extraction/text.py:517: UserWarning: The parameter 'token_pattern' will not be used since 'tokenizer' is not None'\n",
            "  \"The parameter 'token_pattern' will not be used\"\n"
          ]
        }
      ]
    },
    {
      "cell_type": "code",
      "source": [
        "X_train = vectorised.transform(X_train)\n",
        "X_test= vectorised.transform(X_test)"
      ],
      "metadata": {
        "id": "3B5_ddJOgj3I"
      },
      "execution_count": 27,
      "outputs": []
    },
    {
      "cell_type": "code",
      "source": [
        "from gensim.models import Word2Vec, KeyedVectors\n",
        "#model = Word2Vec(X_train, size=1000, min_count=5, window=10, sg=0, workers=10)\n",
        "#print(\"Vocabulary dimension\", model.vector_size)\n",
        "#print(\"Number of words in vocab\", len(model.wv.vocab))"
      ],
      "metadata": {
        "id": "r9ysU6BdGDeI"
      },
      "execution_count": null,
      "outputs": []
    },
    {
      "cell_type": "code",
      "source": [
        "#model.wv.most_similar('न', topn=10)"
      ],
      "metadata": {
        "id": "FnR-6_OBGXMH"
      },
      "execution_count": null,
      "outputs": []
    },
    {
      "cell_type": "code",
      "source": [
        "#X_train = cv_vector.transform(X_train)\n",
        "#X_test= cv_vector.transform(X_test)"
      ],
      "metadata": {
        "id": "k3ynYdINvGIv"
      },
      "execution_count": null,
      "outputs": []
    },
    {
      "cell_type": "code",
      "source": [
        "X_train"
      ],
      "metadata": {
        "colab": {
          "base_uri": "https://localhost:8080/"
        },
        "id": "8I_TBxYUvGL_",
        "outputId": "d7180314-8357-45cc-d12d-83756373418f"
      },
      "execution_count": 28,
      "outputs": [
        {
          "output_type": "execute_result",
          "data": {
            "text/plain": [
              "<5991x15247 sparse matrix of type '<class 'numpy.float64'>'\n",
              "\twith 65135 stored elements in Compressed Sparse Row format>"
            ]
          },
          "metadata": {},
          "execution_count": 28
        }
      ]
    },
    {
      "cell_type": "code",
      "source": [
        "label_encoder = LabelEncoder().fit(y_train)\n",
        "\n",
        "y_train = label_encoder.transform(y_train)\n",
        "y_test = label_encoder.transform(y_test)"
      ],
      "metadata": {
        "id": "HNGEgDiA8Ljg"
      },
      "execution_count": 29,
      "outputs": []
    },
    {
      "cell_type": "code",
      "source": [
        "from sklearn.svm import LinearSVC\n",
        "clf=LinearSVC(loss='hinge',random_state=0,max_iter=10000,penalty='l2')\n",
        "clf.fit(X_train, y_train)    # training model on train data\n",
        "\n",
        "clfval = clf.predict(X_test)   # predicting test data\n",
        "print('F1 Score : {}'.format(f1_score(y_test, clfval, average='micro')))  # printing F1 score \n"
      ],
      "metadata": {
        "colab": {
          "base_uri": "https://localhost:8080/"
        },
        "id": "gaev856598LT",
        "outputId": "8954330f-4994-4f81-d689-39d02f246b2a"
      },
      "execution_count": 30,
      "outputs": [
        {
          "output_type": "stream",
          "name": "stdout",
          "text": [
            "F1 Score : 0.5892678034102307\n"
          ]
        }
      ]
    },
    {
      "cell_type": "code",
      "source": [
        "from sklearn.svm import SVC\n",
        "clf=SVC(kernel='linear',random_state=0,max_iter=10000)\n",
        "clf.fit(X_train, y_train)    # training model on train data\n",
        "\n",
        "clfval = clf.predict(X_test)   # predicting test data\n",
        "print('F1 Score : {}'.format(f1_score(y_test, clfval, average='micro')))  # printing F1 score \n"
      ],
      "metadata": {
        "colab": {
          "base_uri": "https://localhost:8080/"
        },
        "id": "lit69RfI98IQ",
        "outputId": "08c1d89c-60e6-4675-c5e5-0b369f8e2b80"
      },
      "execution_count": 31,
      "outputs": [
        {
          "output_type": "stream",
          "name": "stdout",
          "text": [
            "F1 Score : 0.5797392176529589\n"
          ]
        }
      ]
    },
    {
      "cell_type": "code",
      "source": [
        "from sklearn.naive_bayes import MultinomialNB\n",
        "nb=MultinomialNB(alpha=1.5,fit_prior=False)\n",
        "nb.fit(X_train,y_train)\n",
        "\n",
        "from sklearn.metrics import classification_report\n",
        "y_pred = nb.predict(X_test)\n",
        "\n",
        "print('accuracy %s' % f1_score(y_test, y_pred,average='micro'))"
      ],
      "metadata": {
        "colab": {
          "base_uri": "https://localhost:8080/"
        },
        "id": "CvuVYiqGsgE3",
        "outputId": "956ffc86-b052-4e1d-efa6-c9e824dc1641"
      },
      "execution_count": 34,
      "outputs": [
        {
          "output_type": "stream",
          "name": "stdout",
          "text": [
            "accuracy 0.5912738214643932\n"
          ]
        }
      ]
    },
    {
      "cell_type": "code",
      "source": [
        "from sklearn.linear_model import LogisticRegression\n",
        "lrr=LogisticRegression(solver='saga', n_jobs=1, C=1e5)\n",
        "lrr.fit(X_train, y_train)\n",
        "lrrval = lrr.predict(X_test)\n",
        "print('F1 Score : {}'.format(f1_score(y_test, lrrval, average='micro')))"
      ],
      "metadata": {
        "colab": {
          "base_uri": "https://localhost:8080/"
        },
        "id": "FAp6Gzs598Fx",
        "outputId": "43b1984f-daae-4d98-c224-8b0b64c599ec"
      },
      "execution_count": null,
      "outputs": [
        {
          "output_type": "stream",
          "name": "stdout",
          "text": [
            "F1 Score : 0.5661985957873621\n"
          ]
        },
        {
          "output_type": "stream",
          "name": "stderr",
          "text": [
            "/usr/local/lib/python3.7/dist-packages/sklearn/linear_model/_sag.py:354: ConvergenceWarning: The max_iter was reached which means the coef_ did not converge\n",
            "  ConvergenceWarning,\n"
          ]
        }
      ]
    },
    {
      "cell_type": "code",
      "source": [
        "from sklearn.naive_bayes import BernoulliNB\n",
        "clf = BernoulliNB(alpha=0.9,fit_prior=False)\n",
        "clf.fit(X_train, y_train)\n",
        "clfval = clf.predict(X_test)\n",
        "print('F1 Score : {}'.format(f1_score(y_test, clfval, average='micro')))"
      ],
      "metadata": {
        "colab": {
          "base_uri": "https://localhost:8080/"
        },
        "id": "lse2rsYu98DD",
        "outputId": "6ed63ee8-d50d-476a-cc9a-03a198dc0329"
      },
      "execution_count": null,
      "outputs": [
        {
          "output_type": "stream",
          "name": "stdout",
          "text": [
            "F1 Score : 0.5656970912738215\n"
          ]
        }
      ]
    },
    {
      "cell_type": "code",
      "source": [
        "from sklearn.naive_bayes import ComplementNB\n",
        "cllf = ComplementNB(alpha=1.0, fit_prior=False,norm=True)\n",
        "cllf.fit(X_train, y_train)\n",
        "cllfval = clf.predict(X_test)\n",
        "print('F1 Score : {}'.format(f1_score(y_test, cllfval, average='micro')))"
      ],
      "metadata": {
        "colab": {
          "base_uri": "https://localhost:8080/"
        },
        "id": "Bp0aJZwN98Ad",
        "outputId": "cde607ca-769c-4399-e531-a491f69ad672"
      },
      "execution_count": null,
      "outputs": [
        {
          "output_type": "stream",
          "name": "stdout",
          "text": [
            "F1 Score : 0.5656970912738215\n"
          ]
        }
      ]
    },
    {
      "cell_type": "code",
      "source": [
        "from sklearn.linear_model import PassiveAggressiveClassifier\n",
        "cclf = PassiveAggressiveClassifier(max_iter=2500, random_state=43,tol=1e-5)\n",
        "cclf.fit(X_train, y_train)\n",
        "\n",
        "cllfval = cclf.predict(X_test)\n",
        "print('F1 Score : {}'.format(f1_score(y_test, cllfval, average='micro')))"
      ],
      "metadata": {
        "colab": {
          "base_uri": "https://localhost:8080/"
        },
        "id": "-tu2ghVd9794",
        "outputId": "31589d68-3aa2-48e7-f74b-4f49af16f9af"
      },
      "execution_count": null,
      "outputs": [
        {
          "output_type": "stream",
          "name": "stdout",
          "text": [
            "F1 Score : 0.5536609829488466\n"
          ]
        }
      ]
    },
    {
      "cell_type": "code",
      "source": [
        ""
      ],
      "metadata": {
        "id": "C17lU2xO977L"
      },
      "execution_count": null,
      "outputs": []
    },
    {
      "cell_type": "code",
      "source": [
        "from sklearn.ensemble import GradientBoostingClassifier\n",
        "clf = GradientBoostingClassifier(n_estimators=100, learning_rate=1.2,max_depth=1, random_state=0).fit(X_train, y_train)\n",
        "\n",
        "gbpred=clf.predict(X_test)\n",
        "print('F1 Score : {}'.format(f1_score(y_test, gbpred, average='micro')))"
      ],
      "metadata": {
        "colab": {
          "base_uri": "https://localhost:8080/"
        },
        "id": "I9xpNFkyayA-",
        "outputId": "56b3c4c3-8772-4592-817d-6f5a40a9ab17"
      },
      "execution_count": null,
      "outputs": [
        {
          "output_type": "stream",
          "name": "stdout",
          "text": [
            "F1 Score : 0.5165496489468405\n"
          ]
        }
      ]
    },
    {
      "cell_type": "code",
      "source": [
        "\n",
        "from sklearn.linear_model import Perceptron\n",
        "\n",
        "percept = Perceptron(alpha=0.00001, tol=1e-6, penalty='l1', random_state=1, max_iter=3000)\n",
        "percept = percept.fit(X_train, y_train)\n",
        "\n",
        "cpfval = percept.predict(X_test)\n",
        "print('F1 Score : {}'.format(f1_score(y_test, cpfval, average='micro')))"
      ],
      "metadata": {
        "colab": {
          "base_uri": "https://localhost:8080/"
        },
        "id": "_vqv5sTrax-F",
        "outputId": "fa5909e9-3df4-4ab4-9a04-6f9dba6a0b58"
      },
      "execution_count": null,
      "outputs": [
        {
          "output_type": "stream",
          "name": "stdout",
          "text": [
            "F1 Score : 0.5471414242728184\n"
          ]
        }
      ]
    },
    {
      "cell_type": "code",
      "source": [
        "from sklearn.svm import SVC\n",
        "from sklearn.ensemble import BaggingClassifier\n",
        "\n",
        "clf = BaggingClassifier(base_estimator=SVC(kernel='linear',random_state=0,max_iter=10000),n_estimators=10, random_state=0).fit(X_train, y_train)\n",
        "cpfval = clf.predict(X_test)\n",
        "print('F1 Score : {}'.format(f1_score(y_test, cpfval, average='micro')))"
      ],
      "metadata": {
        "colab": {
          "base_uri": "https://localhost:8080/"
        },
        "id": "4alh95jvfOQ5",
        "outputId": "c09eaf29-6fb9-4e9c-d5ed-2db0fa062488"
      },
      "execution_count": null,
      "outputs": [
        {
          "output_type": "stream",
          "name": "stdout",
          "text": [
            "F1 Score : 0.5712136409227683\n"
          ]
        }
      ]
    },
    {
      "cell_type": "code",
      "source": [
        "from sklearn.naive_bayes import MultinomialNB\n",
        "\n",
        "from sklearn.svm import SVC\n",
        "from sklearn.ensemble import BaggingClassifier\n",
        "\n",
        "clf = BaggingClassifier(base_estimator=MultinomialNB(alpha=1.20,fit_prior=False),n_estimators=10, random_state=0).fit(X_train, y_train)\n",
        "cpfval = clf.predict(X_test)\n",
        "print('F1 Score : {}'.format(f1_score(y_test, cpfval, average='micro')))"
      ],
      "metadata": {
        "colab": {
          "base_uri": "https://localhost:8080/"
        },
        "id": "HHUsQdFcfOMf",
        "outputId": "7f68fe95-7b22-4245-c2bb-9b904942d3be"
      },
      "execution_count": null,
      "outputs": [
        {
          "output_type": "stream",
          "name": "stdout",
          "text": [
            "F1 Score : 0.5882647943831495\n"
          ]
        }
      ]
    },
    {
      "cell_type": "code",
      "source": [
        "from sklearn.neighbors import KNeighborsClassifier\n",
        "neigh = KNeighborsClassifier(weights='distance',algorithm='brute' ,n_neighbors=5)\n",
        "neigh.fit(X_train, y_train)\n",
        "\n",
        "ngval = clf.predict(X_test)\n",
        "print('F1 Score : {}'.format(f1_score(y_test, ngval, average='micro')))"
      ],
      "metadata": {
        "colab": {
          "base_uri": "https://localhost:8080/"
        },
        "id": "UTGfMrHAfOIE",
        "outputId": "b0669da5-a6b8-44dd-eb83-5f2ff6372e8e"
      },
      "execution_count": null,
      "outputs": [
        {
          "output_type": "stream",
          "name": "stdout",
          "text": [
            "F1 Score : 0.5882647943831495\n"
          ]
        }
      ]
    },
    {
      "cell_type": "code",
      "source": [
        "from sklearn.ensemble import RandomForestClassifier\n",
        "from sklearn.datasets import make_classification\n",
        "\n",
        "clf = RandomForestClassifier(max_depth=10, random_state=0,max_features='sqrt')\n",
        "clf.fit(X_train, y_train)\n",
        "\n",
        "pred=clf.predict(X_test)\n",
        "print('F1 Score : {}'.format(f1_score(y_test, pred, average='micro')))"
      ],
      "metadata": {
        "id": "o5nNju7MfOEw",
        "outputId": "96a887c9-780c-4a26-a458-38b43fb7fa10",
        "colab": {
          "base_uri": "https://localhost:8080/"
        }
      },
      "execution_count": 33,
      "outputs": [
        {
          "output_type": "stream",
          "name": "stdout",
          "text": [
            "F1 Score : 0.5085255767301906\n"
          ]
        }
      ]
    },
    {
      "cell_type": "code",
      "source": [
        ""
      ],
      "metadata": {
        "id": "NdkbBoLufN77"
      },
      "execution_count": null,
      "outputs": []
    },
    {
      "cell_type": "code",
      "source": [
        ""
      ],
      "metadata": {
        "id": "shlLKSP3ax2B"
      },
      "execution_count": null,
      "outputs": []
    },
    {
      "cell_type": "code",
      "source": [
        "from sklearn.metrics import classification_report\n",
        "print(classification_report(y_test, y_pred))\n",
        "\n",
        "#countvector\n",
        "import seaborn as sns\n",
        "from sklearn.metrics import confusion_matrix\n",
        "cf_matrix = confusion_matrix(y_test, y_pred)\n",
        "fig, ax = plt.subplots(figsize=(15,10)) \n",
        "sns.heatmap(cf_matrix, linewidths=1, annot=True, ax=ax, fmt='g')"
      ],
      "metadata": {
        "colab": {
          "base_uri": "https://localhost:8080/",
          "height": 783
        },
        "id": "bfghz32IaxzY",
        "outputId": "50b8bc72-05ab-483b-825f-4d07b3ff77e4"
      },
      "execution_count": 35,
      "outputs": [
        {
          "output_type": "stream",
          "name": "stdout",
          "text": [
            "              precision    recall  f1-score   support\n",
            "\n",
            "           0       0.49      0.76      0.59       610\n",
            "           1       0.72      0.73      0.72       888\n",
            "           2       0.49      0.15      0.23       496\n",
            "\n",
            "    accuracy                           0.59      1994\n",
            "   macro avg       0.56      0.54      0.51      1994\n",
            "weighted avg       0.59      0.59      0.56      1994\n",
            "\n"
          ]
        },
        {
          "output_type": "execute_result",
          "data": {
            "text/plain": [
              "<matplotlib.axes._subplots.AxesSubplot at 0x7fb79cb9ba50>"
            ]
          },
          "metadata": {},
          "execution_count": 35
        },
        {
          "output_type": "display_data",
          "data": {
            "image/png": "[encoded data removed]",
            "text/plain": [
              "<Figure size 1080x720 with 2 Axes>"
            ]
          },
          "metadata": {
            "needs_background": "light"
          }
        }
      ]
    },
    {
      "cell_type": "code",
      "source": [
        ""
      ],
      "metadata": {
        "colab": {
          "base_uri": "https://localhost:8080/"
        },
        "id": "U0SDNNQJqRU0",
        "outputId": "a73f11d8-c8ac-43d3-c536-d6838c5820de"
      },
      "execution_count": null,
      "outputs": [
        {
          "output_type": "execute_result",
          "data": {
            "text/plain": [
              "0.7249134948096886"
            ]
          },
          "metadata": {},
          "execution_count": 152
        }
      ]
    }
  ]
}