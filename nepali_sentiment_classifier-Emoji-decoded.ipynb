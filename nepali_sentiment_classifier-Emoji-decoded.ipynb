{
 "cells": [
  {
   "cell_type": "code",
   "execution_count": 2,
   "metadata": {
    "id": "9Aiq6SBtu2Aa"
   },
   "outputs": [],
   "source": [
    "import pandas as pd\n",
    "import numpy as np\n",
    "import matplotlib.pyplot as plt\n",
    "\n",
    "from sklearn.feature_extraction.text import TfidfVectorizer\n",
    "from sklearn.feature_extraction.text import CountVectorizer\n",
    "from sklearn.preprocessing import LabelEncoder\n",
    "from sklearn.model_selection import cross_val_score\n",
    "from sklearn.svm import LinearSVC\n",
    "from sklearn.metrics import f1_score\n",
    "from sklearn.metrics import confusion_matrix"
   ]
  },
  {
   "cell_type": "code",
   "execution_count": 3,
   "metadata": {
    "id": "3sgn7qAAvFcx"
   },
   "outputs": [],
   "source": [
    "# Reading the train, test\n",
    "\n",
    "df_train = pd.read_csv('train.csv',encoding='utf-8')\n",
    "df_test = pd.read_csv('test.csv',encoding='utf-8')"
   ]
  },
  {
   "cell_type": "code",
   "execution_count": 8,
   "metadata": {
    "colab": {
     "base_uri": "https://localhost:8080/",
     "height": 424
    },
    "id": "tvvztHO1vFlH",
    "outputId": "38d8728b-5263-4182-9dae-9a33205c7a9f"
   },
   "outputs": [
    {
     "data": {
      "text/html": [
       "<div>\n",
       "<style scoped>\n",
       "    .dataframe tbody tr th:only-of-type {\n",
       "        vertical-align: middle;\n",
       "    }\n",
       "\n",
       "    .dataframe tbody tr th {\n",
       "        vertical-align: top;\n",
       "    }\n",
       "\n",
       "    .dataframe thead th {\n",
       "        text-align: right;\n",
       "    }\n",
       "</style>\n",
       "<table border=\"1\" class=\"dataframe\">\n",
       "  <thead>\n",
       "    <tr style=\"text-align: right;\">\n",
       "      <th></th>\n",
       "      <th>text</th>\n",
       "      <th>label</th>\n",
       "    </tr>\n",
       "  </thead>\n",
       "  <tbody>\n",
       "    <tr>\n",
       "      <th>0</th>\n",
       "      <td>बजार ले जसरी ट्रेन्ड चेन्ज गर्यो यो हेर्दा तत्...</td>\n",
       "      <td>2</td>\n",
       "    </tr>\n",
       "    <tr>\n",
       "      <th>1</th>\n",
       "      <td>1000 अंकले घटेको नेप्से 200 अंकले बढ्नु ठूलो क...</td>\n",
       "      <td>1</td>\n",
       "    </tr>\n",
       "    <tr>\n",
       "      <th>2</th>\n",
       "      <td>होइन यो सानिमा बैंक ले bonus घोसणा गरेको २ महि...</td>\n",
       "      <td>2</td>\n",
       "    </tr>\n",
       "    <tr>\n",
       "      <th>3</th>\n",
       "      <td>खैँ MBJC प्रति कित्तामा रू,10/-ले बढेर आज रू,1...</td>\n",
       "      <td>2</td>\n",
       "    </tr>\n",
       "    <tr>\n",
       "      <th>4</th>\n",
       "      <td>राम्रो भयो️️</td>\n",
       "      <td>1</td>\n",
       "    </tr>\n",
       "    <tr>\n",
       "      <th>...</th>\n",
       "      <td>...</td>\n",
       "      <td>...</td>\n",
       "    </tr>\n",
       "    <tr>\n",
       "      <th>5995</th>\n",
       "      <td>समाज परिवर्तन गराउन लाई अरु को मुख हेर्ने भन्द...</td>\n",
       "      <td>1</td>\n",
       "    </tr>\n",
       "    <tr>\n",
       "      <th>5996</th>\n",
       "      <td>Filmy क्षेत्रमा धेरै गर्नु भयो,,अब समाज र देश ...</td>\n",
       "      <td>2</td>\n",
       "    </tr>\n",
       "    <tr>\n",
       "      <th>5997</th>\n",
       "      <td>यस्तै यस्तै कार्यक्रम अझ बढी हुन जरुरी छ कुना ...</td>\n",
       "      <td>2</td>\n",
       "    </tr>\n",
       "    <tr>\n",
       "      <th>5998</th>\n",
       "      <td>बधाई र सुभकामना ।।</td>\n",
       "      <td>1</td>\n",
       "    </tr>\n",
       "    <tr>\n",
       "      <th>5999</th>\n",
       "      <td>कार्यक्रम एकदमै सकारात्मक छ। निरन्तरता पाओस्।</td>\n",
       "      <td>1</td>\n",
       "    </tr>\n",
       "  </tbody>\n",
       "</table>\n",
       "<p>5990 rows × 2 columns</p>\n",
       "</div>"
      ],
      "text/plain": [
       "                                                   text label\n",
       "0     बजार ले जसरी ट्रेन्ड चेन्ज गर्यो यो हेर्दा तत्...     2\n",
       "1     1000 अंकले घटेको नेप्से 200 अंकले बढ्नु ठूलो क...     1\n",
       "2     होइन यो सानिमा बैंक ले bonus घोसणा गरेको २ महि...     2\n",
       "3     खैँ MBJC प्रति कित्तामा रू,10/-ले बढेर आज रू,1...     2\n",
       "4                                          राम्रो भयो️️     1\n",
       "...                                                 ...   ...\n",
       "5995  समाज परिवर्तन गराउन लाई अरु को मुख हेर्ने भन्द...     1\n",
       "5996  Filmy क्षेत्रमा धेरै गर्नु भयो,,अब समाज र देश ...     2\n",
       "5997  यस्तै यस्तै कार्यक्रम अझ बढी हुन जरुरी छ कुना ...     2\n",
       "5998                                 बधाई र सुभकामना ।।     1\n",
       "5999      कार्यक्रम एकदमै सकारात्मक छ। निरन्तरता पाओस्।     1\n",
       "\n",
       "[5990 rows x 2 columns]"
      ]
     },
     "execution_count": 8,
     "metadata": {},
     "output_type": "execute_result"
    }
   ],
   "source": [
    "df_train"
   ]
  },
  {
   "cell_type": "code",
   "execution_count": 9,
   "metadata": {
    "colab": {
     "base_uri": "https://localhost:8080/",
     "height": 424
    },
    "id": "GbpoZl-PTv8E",
    "outputId": "e9bfd378-7802-4d08-89de-e65548882782"
   },
   "outputs": [
    {
     "data": {
      "text/html": [
       "<div>\n",
       "<style scoped>\n",
       "    .dataframe tbody tr th:only-of-type {\n",
       "        vertical-align: middle;\n",
       "    }\n",
       "\n",
       "    .dataframe tbody tr th {\n",
       "        vertical-align: top;\n",
       "    }\n",
       "\n",
       "    .dataframe thead th {\n",
       "        text-align: right;\n",
       "    }\n",
       "</style>\n",
       "<table border=\"1\" class=\"dataframe\">\n",
       "  <thead>\n",
       "    <tr style=\"text-align: right;\">\n",
       "      <th></th>\n",
       "      <th>text</th>\n",
       "      <th>label</th>\n",
       "    </tr>\n",
       "  </thead>\n",
       "  <tbody>\n",
       "    <tr>\n",
       "      <th>0</th>\n",
       "      <td>असाध्यै राम्रो कार्यक्रम आयोजना गरिएको छ हजुरह...</td>\n",
       "      <td>1</td>\n",
       "    </tr>\n",
       "    <tr>\n",
       "      <th>1</th>\n",
       "      <td>राम्रो कार्यक्रम, पहिलो सिजनले समेटेको कार्यक्...</td>\n",
       "      <td>1</td>\n",
       "    </tr>\n",
       "    <tr>\n",
       "      <th>2</th>\n",
       "      <td>महानायक राजेश हमाल तपाई साँच्चै धन्यवादको पात्...</td>\n",
       "      <td>1</td>\n",
       "    </tr>\n",
       "    <tr>\n",
       "      <th>3</th>\n",
       "      <td>जातको प्रष्न बाट सबै जनालाई सकरात्मक सन्देश मि...</td>\n",
       "      <td>1</td>\n",
       "    </tr>\n",
       "    <tr>\n",
       "      <th>4</th>\n",
       "      <td>बहसको सुरुवात भएको छ, अझै जोडदार रुपमा गर्नुपर...</td>\n",
       "      <td>1</td>\n",
       "    </tr>\n",
       "    <tr>\n",
       "      <th>...</th>\n",
       "      <td>...</td>\n",
       "      <td>...</td>\n",
       "    </tr>\n",
       "    <tr>\n",
       "      <th>1991</th>\n",
       "      <td>कस्ता कस्ता पागल memory king छन यार नेपालमा</td>\n",
       "      <td>0</td>\n",
       "    </tr>\n",
       "    <tr>\n",
       "      <th>1992</th>\n",
       "      <td>दोस्रो मूर्ख बिजय साही हो</td>\n",
       "      <td>0</td>\n",
       "    </tr>\n",
       "    <tr>\n",
       "      <th>1993</th>\n",
       "      <td>बिजय शाहीलाई किन निरुत्साहित गरेको त पुण्य गौत...</td>\n",
       "      <td>0</td>\n",
       "    </tr>\n",
       "    <tr>\n",
       "      <th>1994</th>\n",
       "      <td>यस्ता बिदेशी महादलालीहरु कहाँ गएर यो प्रश्नको ...</td>\n",
       "      <td>0</td>\n",
       "    </tr>\n",
       "    <tr>\n",
       "      <th>1995</th>\n",
       "      <td>बुढा खालहरूमा बाँकि रहेको नेताहरुमा बाबुराम ज...</td>\n",
       "      <td>0</td>\n",
       "    </tr>\n",
       "  </tbody>\n",
       "</table>\n",
       "<p>1995 rows × 2 columns</p>\n",
       "</div>"
      ],
      "text/plain": [
       "                                                   text label\n",
       "0     असाध्यै राम्रो कार्यक्रम आयोजना गरिएको छ हजुरह...     1\n",
       "1     राम्रो कार्यक्रम, पहिलो सिजनले समेटेको कार्यक्...     1\n",
       "2     महानायक राजेश हमाल तपाई साँच्चै धन्यवादको पात्...     1\n",
       "3     जातको प्रष्न बाट सबै जनालाई सकरात्मक सन्देश मि...     1\n",
       "4     बहसको सुरुवात भएको छ, अझै जोडदार रुपमा गर्नुपर...     1\n",
       "...                                                 ...   ...\n",
       "1991        कस्ता कस्ता पागल memory king छन यार नेपालमा     0\n",
       "1992                          दोस्रो मूर्ख बिजय साही हो     0\n",
       "1993  बिजय शाहीलाई किन निरुत्साहित गरेको त पुण्य गौत...     0\n",
       "1994  यस्ता बिदेशी महादलालीहरु कहाँ गएर यो प्रश्नको ...     0\n",
       "1995   बुढा खालहरूमा बाँकि रहेको नेताहरुमा बाबुराम ज...     0\n",
       "\n",
       "[1995 rows x 2 columns]"
      ]
     },
     "execution_count": 9,
     "metadata": {},
     "output_type": "execute_result"
    }
   ],
   "source": [
    "df_test"
   ]
  },
  {
   "cell_type": "code",
   "execution_count": 5,
   "metadata": {
    "colab": {
     "base_uri": "https://localhost:8080/"
    },
    "id": "iW5adhHVv1Um",
    "outputId": "8ad2d667-af12-44ec-f4c1-1a12881f102d"
   },
   "outputs": [
    {
     "data": {
      "text/plain": [
       "1     2378\n",
       "0     2377\n",
       "2     1236\n",
       "-        5\n",
       "20       1\n",
       "11       1\n",
       "o        1\n",
       "--       1\n",
       "Name: label, dtype: int64"
      ]
     },
     "execution_count": 5,
     "metadata": {},
     "output_type": "execute_result"
    }
   ],
   "source": [
    "df_train['label'].value_counts()"
   ]
  },
  {
   "cell_type": "code",
   "execution_count": 6,
   "metadata": {
    "colab": {
     "base_uri": "https://localhost:8080/"
    },
    "id": "t_kDWqYqT0-r",
    "outputId": "88cf5df1-7516-4d1a-b70d-3817798cf130"
   },
   "outputs": [
    {
     "data": {
      "text/plain": [
       "1    888\n",
       "0    610\n",
       "2    496\n",
       "o      1\n",
       "-      1\n",
       "Name: label, dtype: int64"
      ]
     },
     "execution_count": 6,
     "metadata": {},
     "output_type": "execute_result"
    }
   ],
   "source": [
    "df_test['label'].value_counts()"
   ]
  },
  {
   "cell_type": "code",
   "execution_count": 7,
   "metadata": {
    "colab": {
     "base_uri": "https://localhost:8080/",
     "height": 268
    },
    "id": "y9K-UZxpvFqq",
    "outputId": "a719b2f6-308c-4226-c37f-ffe6f1eb936f"
   },
   "outputs": [
    {
     "data": {
      "image/png": "[encoded data removed]",
      "text/plain": [
       "<Figure size 1800x288 with 1 Axes>"
      ]
     },
     "metadata": {
      "needs_background": "light"
     },
     "output_type": "display_data"
    }
   ],
   "source": [
    "plt.figure(figsize=(25,4))\n",
    "df_train['label'].value_counts().plot(kind='bar')\n",
    "plt.axis()\n",
    "plt.show()"
   ]
  },
  {
   "cell_type": "code",
   "execution_count": 9,
   "metadata": {
    "colab": {
     "base_uri": "https://localhost:8080/"
    },
    "id": "BpAWfCVMvFu2",
    "outputId": "b3b95d39-fadb-4cdb-c0a5-ba97e0c8301b"
   },
   "outputs": [
    {
     "data": {
      "text/plain": [
       "(8,)"
      ]
     },
     "execution_count": 9,
     "metadata": {},
     "output_type": "execute_result"
    }
   ],
   "source": [
    "df_train['label'].value_counts().shape"
   ]
  },
  {
   "cell_type": "code",
   "execution_count": 10,
   "metadata": {},
   "outputs": [],
   "source": [
    "df_train=df_train.dropna()\n",
    "df_test=df_test.dropna()"
   ]
  },
  {
   "cell_type": "code",
   "execution_count": 11,
   "metadata": {
    "id": "Ktz2SOcNvFx2"
   },
   "outputs": [],
   "source": [
    "df_train.drop(df_train[df_train['label'] == '-'].index, inplace = True)\n",
    "df_train.drop(df_train[df_train['label'] == '20'].index, inplace = True)\n",
    "df_train.drop(df_train[df_train['label'] == '11'].index, inplace = True)\n",
    "df_train.drop(df_train[df_train['label'] == 'o'].index, inplace = True)\n",
    "df_train.drop(df_train[df_train['label'] == '--'].index, inplace = True)"
   ]
  },
  {
   "cell_type": "code",
   "execution_count": 12,
   "metadata": {
    "id": "b226PLKTT6s4"
   },
   "outputs": [],
   "source": [
    "df_test.drop(df_test[df_test['label'] == '-'].index, inplace = True)\n",
    "df_test.drop(df_test[df_test['label'] == 'o'].index, inplace = True)"
   ]
  },
  {
   "cell_type": "code",
   "execution_count": 6,
   "metadata": {
    "colab": {
     "base_uri": "https://localhost:8080/"
    },
    "id": "XPJ-WkOSUIeQ",
    "outputId": "64a2f1c8-e791-472b-fe00-aa900c762ae2"
   },
   "outputs": [
    {
     "data": {
      "text/plain": [
       "1    888\n",
       "0    609\n",
       "2    496\n",
       "Name: label, dtype: int64"
      ]
     },
     "execution_count": 6,
     "metadata": {},
     "output_type": "execute_result"
    }
   ],
   "source": [
    "df_test['label'].value_counts()"
   ]
  },
  {
   "cell_type": "code",
   "execution_count": 7,
   "metadata": {
    "colab": {
     "base_uri": "https://localhost:8080/"
    },
    "id": "1dIMjMaGvF09",
    "outputId": "e04c9092-59b3-4629-b1ae-1613ad43065e"
   },
   "outputs": [
    {
     "data": {
      "text/plain": [
       "1    2378\n",
       "0    2376\n",
       "2    1236\n",
       "Name: label, dtype: int64"
      ]
     },
     "execution_count": 7,
     "metadata": {},
     "output_type": "execute_result"
    }
   ],
   "source": [
    "df_train['label'].value_counts()"
   ]
  },
  {
   "cell_type": "code",
   "execution_count": 15,
   "metadata": {
    "colab": {
     "base_uri": "https://localhost:8080/",
     "height": 262
    },
    "id": "c_HjjPehvF38",
    "outputId": "246ff727-3aa9-4dac-8403-18bc76aa9320"
   },
   "outputs": [
    {
     "data": {
      "image/png": "[encoded data removed]",
      "text/plain": [
       "<Figure size 1800x288 with 1 Axes>"
      ]
     },
     "metadata": {
      "needs_background": "light"
     },
     "output_type": "display_data"
    }
   ],
   "source": [
    "plt.figure(figsize=(25,4))\n",
    "df_train['label'].value_counts().plot(kind='bar')\n",
    "plt.axis()\n",
    "plt.show()"
   ]
  },
  {
   "cell_type": "code",
   "execution_count": 31,
   "metadata": {
    "id": "7G5It2jFvF7B"
   },
   "outputs": [],
   "source": [
    "X_train, y_train = df_train['text'],df_train['label']\n",
    "X_test, y_test = df_test['text'],df_test['label']"
   ]
  },
  {
   "cell_type": "code",
   "execution_count": null,
   "metadata": {},
   "outputs": [],
   "source": []
  },
  {
   "cell_type": "code",
   "execution_count": 9,
   "metadata": {},
   "outputs": [],
   "source": [
    "import re\n",
    "import pickle\n",
    "from emot.emo_unicode import *\n",
    "\n",
    "# 'Emoji_Dict.p'- download link https://drive.google.com/open?id=1G1vIkkbqPBYPKHcQ8qy0G2zkoab2Qv4v\n",
    "with open('Emoji_Dict.p', 'rb') as fp:\n",
    "    Emoji_Dict = pickle.load(fp)\n",
    "Emoji_Dict = {v: k for k, v in Emoji_Dict.items()}\n",
    "\n",
    "\n",
    "def convert_emojis_to_word(text):\n",
    "    for emot in Emoji_Dict:\n",
    "        text = re.sub(r'('+emot+')', \"_\".join(Emoji_Dict[emot].replace(\",\",\"\").replace(\":\",\"\").split()), text)\n",
    "    return text"
   ]
  },
  {
   "cell_type": "code",
   "execution_count": 10,
   "metadata": {},
   "outputs": [
    {
     "name": "stdout",
     "output_type": "stream",
     "text": [
      "3869\n"
     ]
    }
   ],
   "source": [
    "X_TRAIN=[]\n",
    "Y_TRAIN=[]\n",
    "\n",
    "for i in range(len(X_train)):\n",
    "    if(i==3869):\n",
    "        print(i)\n",
    "    else:\n",
    "        test=convert_emojis_to_word(X_train[df_train.index[i]])\n",
    "        X_TRAIN.append(test)\n",
    "        trainy= y_train[df_train.index[i]]\n",
    "        Y_TRAIN.append(trainy)\n",
    "    "
   ]
  },
  {
   "cell_type": "code",
   "execution_count": 11,
   "metadata": {},
   "outputs": [
    {
     "data": {
      "text/plain": [
       "5989"
      ]
     },
     "execution_count": 11,
     "metadata": {},
     "output_type": "execute_result"
    }
   ],
   "source": [
    "len(Y_TRAIN)"
   ]
  },
  {
   "cell_type": "code",
   "execution_count": 12,
   "metadata": {},
   "outputs": [
    {
     "data": {
      "text/plain": [
       "5989"
      ]
     },
     "execution_count": 12,
     "metadata": {},
     "output_type": "execute_result"
    }
   ],
   "source": [
    "len(X_TRAIN)"
   ]
  },
  {
   "cell_type": "code",
   "execution_count": 38,
   "metadata": {},
   "outputs": [
    {
     "data": {
      "text/plain": [
       "'लामो प्रतीक्षा पछि आज रबि दाइलाइ सिधा कुरा कार्यक्रममा देख्दा खुसी लाग्यो । smiling_face_with_heart-eyessmiling_face_with_heart-eyessmiling_face_with_heart-eyessmiling_face_with_heart-eyes'"
      ]
     },
     "execution_count": 38,
     "metadata": {},
     "output_type": "execute_result"
    }
   ],
   "source": [
    "#X_TRAIN[3869]"
   ]
  },
  {
   "cell_type": "code",
   "execution_count": 39,
   "metadata": {},
   "outputs": [
    {
     "data": {
      "text/plain": [
       "'लामो प्रतीक्षा पछि आज रबि दाइलाइ सिधा कुरा कार्यक्रममा देख्दा खुसी लाग्यो । 😍😍😍😍'"
      ]
     },
     "execution_count": 39,
     "metadata": {},
     "output_type": "execute_result"
    }
   ],
   "source": [
    "#X_train[df_train.index[3870]]"
   ]
  },
  {
   "cell_type": "code",
   "execution_count": 48,
   "metadata": {},
   "outputs": [
    {
     "data": {
      "text/plain": [
       "'लामो प्रतीक्षा पछि आज रबि दाइलाइ सिधा कुरा कार्यक्रममा देख्दा खुसी लाग्यो । smiling_face_with_heart-eyessmiling_face_with_heart-eyessmiling_face_with_heart-eyessmiling_face_with_heart-eyes'"
      ]
     },
     "execution_count": 48,
     "metadata": {},
     "output_type": "execute_result"
    }
   ],
   "source": [
    "#convert_emojis_to_word(X_train[df_train.index[3870]])"
   ]
  },
  {
   "cell_type": "code",
   "execution_count": 13,
   "metadata": {},
   "outputs": [
    {
     "name": "stdout",
     "output_type": "stream",
     "text": [
      "972\n"
     ]
    }
   ],
   "source": [
    "X_TEST=[]\n",
    "Y_TEST=[]\n",
    "\n",
    "\n",
    "for i in range(len(X_test)):\n",
    "  if(i==972):\n",
    "    print(i)\n",
    "  else:\n",
    "    test=convert_emojis_to_word(X_test[df_test.index[i]])\n",
    "    X_TEST.append(test)\n",
    "    testy= y_test[df_test.index[i]]\n",
    "    Y_TEST.append(testy)"
   ]
  },
  {
   "cell_type": "code",
   "execution_count": null,
   "metadata": {},
   "outputs": [],
   "source": []
  },
  {
   "cell_type": "code",
   "execution_count": 15,
   "metadata": {},
   "outputs": [
    {
     "data": {
      "text/plain": [
       "'कहिल्यै पनि राम्रो अभिभावक पायन अझै कति झुर हुनै बाकी छ'"
      ]
     },
     "execution_count": 15,
     "metadata": {},
     "output_type": "execute_result"
    }
   ],
   "source": [
    "X_TRAIN[4484]"
   ]
  },
  {
   "cell_type": "code",
   "execution_count": 14,
   "metadata": {
    "colab": {
     "base_uri": "https://localhost:8080/"
    },
    "id": "vSi0PinVS_Y5",
    "outputId": "c7dba299-a5bb-4682-986c-8557c4fa1528"
   },
   "outputs": [
    {
     "data": {
      "text/plain": [
       "'0'"
      ]
     },
     "execution_count": 14,
     "metadata": {},
     "output_type": "execute_result"
    }
   ],
   "source": [
    "Y_TRAIN[4484]"
   ]
  },
  {
   "cell_type": "code",
   "execution_count": 19,
   "metadata": {
    "colab": {
     "base_uri": "https://localhost:8080/"
    },
    "id": "UZYSpXNhS_mg",
    "outputId": "23348152-c2de-4387-b3b9-3888a7197845"
   },
   "outputs": [
    {
     "data": {
      "text/plain": [
       "0       असाध्यै राम्रो कार्यक्रम आयोजना गरिएको छ हजुरह...\n",
       "1       राम्रो कार्यक्रम, पहिलो सिजनले समेटेको कार्यक्...\n",
       "2       महानायक राजेश हमाल तपाई साँच्चै धन्यवादको पात्...\n",
       "3       जातको प्रष्न बाट सबै जनालाई सकरात्मक सन्देश मि...\n",
       "4       बहसको सुरुवात भएको छ, अझै जोडदार रुपमा गर्नुपर...\n",
       "                              ...                        \n",
       "1991          कस्ता कस्ता पागल memory king छन यार नेपालमा\n",
       "1992                            दोस्रो मूर्ख बिजय साही हो\n",
       "1993    बिजय शाहीलाई किन निरुत्साहित गरेको त पुण्य गौत...\n",
       "1994    यस्ता बिदेशी महादलालीहरु कहाँ गएर यो प्रश्नको ...\n",
       "1995     बुढा खालहरूमा बाँकि रहेको नेताहरुमा बाबुराम ज...\n",
       "Name: text, Length: 1994, dtype: object"
      ]
     },
     "execution_count": 19,
     "metadata": {},
     "output_type": "execute_result"
    }
   ],
   "source": [
    "X_test"
   ]
  },
  {
   "cell_type": "code",
   "execution_count": 20,
   "metadata": {
    "colab": {
     "base_uri": "https://localhost:8080/"
    },
    "id": "WwJvXnMsvF9Y",
    "outputId": "7f238ac2-d8f3-4687-ccfe-09ab5471af1a"
   },
   "outputs": [
    {
     "data": {
      "text/plain": [
       "0       बजार ले जसरी ट्रेन्ड चेन्ज गर्यो यो हेर्दा तत्...\n",
       "1       1000 अंकले घटेको नेप्से 200 अंकले बढ्नु ठूलो क...\n",
       "2       होइन यो सानिमा बैंक ले bonus घोसणा गरेको २ महि...\n",
       "3       खैँ MBJC प्रति कित्तामा रू,10/-ले बढेर आज रू,1...\n",
       "4                                            राम्रो भयो️️\n",
       "                              ...                        \n",
       "5995    समाज परिवर्तन गराउन लाई अरु को मुख हेर्ने भन्द...\n",
       "5996    Filmy क्षेत्रमा धेरै गर्नु भयो,,अब समाज र देश ...\n",
       "5997    यस्तै यस्तै कार्यक्रम अझ बढी हुन जरुरी छ कुना ...\n",
       "5998                                   बधाई र सुभकामना ।।\n",
       "5999        कार्यक्रम एकदमै सकारात्मक छ। निरन्तरता पाओस्।\n",
       "Name: text, Length: 5991, dtype: object"
      ]
     },
     "execution_count": 20,
     "metadata": {},
     "output_type": "execute_result"
    }
   ],
   "source": [
    "X_train"
   ]
  },
  {
   "cell_type": "code",
   "execution_count": 15,
   "metadata": {
    "colab": {
     "base_uri": "https://localhost:8080/"
    },
    "id": "hK5y_pdF2Tix",
    "outputId": "af998f5d-7daf-4327-ba6f-cf175cf268f9"
   },
   "outputs": [
    {
     "name": "stderr",
     "output_type": "stream",
     "text": [
      "[nltk_data] Downloading package stopwords to /home/sumit/nltk_data...\n",
      "[nltk_data]   Package stopwords is already up-to-date!\n"
     ]
    },
    {
     "data": {
      "text/plain": [
       "True"
      ]
     },
     "execution_count": 15,
     "metadata": {},
     "output_type": "execute_result"
    }
   ],
   "source": [
    "import nltk\n",
    "nltk.download('stopwords')"
   ]
  },
  {
   "cell_type": "code",
   "execution_count": 16,
   "metadata": {
    "colab": {
     "base_uri": "https://localhost:8080/"
    },
    "id": "zQBzZm5r58a2",
    "outputId": "9cceac7e-ad66-4dba-f9ed-d01679f3a8e2"
   },
   "outputs": [
    {
     "name": "stdout",
     "output_type": "stream",
     "text": [
      "arabic\t     dutch    german\t  italian    portuguese  slovene  turkish\r\n",
      "azerbaijani  english  greek\t  kazakh     README\t spanish\r\n",
      "bengali      finnish  hungarian   nepali     romanian\t swedish\r\n",
      "danish\t     french   indonesian  norwegian  russian\t tajik\r\n"
     ]
    }
   ],
   "source": [
    "!ls /home/sumit/nltk_data/corpora/stopwords"
   ]
  },
  {
   "cell_type": "code",
   "execution_count": 32,
   "metadata": {
    "id": "GK2OhEQX8erE"
   },
   "outputs": [],
   "source": [
    "X_train=X_train.values.astype('U')\n",
    "X_test=X_test.values.astype('U')"
   ]
  },
  {
   "cell_type": "code",
   "execution_count": 25,
   "metadata": {
    "colab": {
     "base_uri": "https://localhost:8080/"
    },
    "id": "pp_CUppn8k4r",
    "outputId": "be8360af-15d6-4fa1-8930-4c20a32d079f"
   },
   "outputs": [
    {
     "data": {
      "text/plain": [
       "0       बजार ले जसरी ट्रेन्ड चेन्ज गर्यो यो हेर्दा तत्...\n",
       "1       1000 अंकले घटेको नेप्से 200 अंकले बढ्नु ठूलो क...\n",
       "2       होइन यो सानिमा बैंक ले bonus घोसणा गरेको २ महि...\n",
       "3       खैँ MBJC प्रति कित्तामा रू,10/-ले बढेर आज रू,1...\n",
       "4                                            राम्रो भयो️️\n",
       "                              ...                        \n",
       "5995    समाज परिवर्तन गराउन लाई अरु को मुख हेर्ने भन्द...\n",
       "5996    Filmy क्षेत्रमा धेरै गर्नु भयो,,अब समाज र देश ...\n",
       "5997    यस्तै यस्तै कार्यक्रम अझ बढी हुन जरुरी छ कुना ...\n",
       "5998                                   बधाई र सुभकामना ।।\n",
       "5999        कार्यक्रम एकदमै सकारात्मक छ। निरन्तरता पाओस्।\n",
       "Name: text, Length: 5991, dtype: object"
      ]
     },
     "execution_count": 25,
     "metadata": {},
     "output_type": "execute_result"
    }
   ],
   "source": [
    "#X_train"
   ]
  },
  {
   "cell_type": "code",
   "execution_count": 32,
   "metadata": {
    "colab": {
     "base_uri": "https://localhost:8080/"
    },
    "id": "_7rmG3b1vGAX",
    "outputId": "23b1ed06-2cf2-4793-c3e7-f0fadc68b2bd"
   },
   "outputs": [],
   "source": [
    "from sklearn.feature_extraction.text import CountVectorizer\n",
    "from nltk.corpus import stopwords\n",
    "\n",
    "#stopwords_list = stopwords.words('english') + stopwords.words('nepali')\n",
    "\n",
    "stopWords = set(nltk.corpus.stopwords.words('nepali'))\n",
    "\n",
    "cv_doc = CountVectorizer(max_features=20000,stop_words=stopWords ,ngram_range=(1,1), min_df=3,encoding='utf-8')\n",
    "cv_vector = cv_doc.fit(X_train)"
   ]
  },
  {
   "cell_type": "code",
   "execution_count": 10,
   "metadata": {
    "colab": {
     "base_uri": "https://localhost:8080/"
    },
    "id": "J97NiqwvgkNl",
    "outputId": "0d4e3872-eb25-4320-c8b5-60d8e6dc23a7"
   },
   "outputs": [
    {
     "name": "stdout",
     "output_type": "stream",
     "text": [
      "--2022-02-18 14:37:48--  https://raw.githubusercontent.com/sndsabin/Nepali-News-Classifier/master/nepali\n",
      "Resolving raw.githubusercontent.com (raw.githubusercontent.com)... 185.199.110.133, 185.199.111.133, 185.199.109.133, ...\n",
      "Connecting to raw.githubusercontent.com (raw.githubusercontent.com)|185.199.110.133|:443... connected.\n",
      "HTTP request sent, awaiting response... 200 OK\n",
      "Length: 3613 (3.5K) [text/plain]\n",
      "Saving to: ‘nepali’\n",
      "\n",
      "\r",
      "nepali                0%[                    ]       0  --.-KB/s               \r",
      "nepali              100%[===================>]   3.53K  --.-KB/s    in 0s      \n",
      "\n",
      "2022-02-18 14:37:48 (37.1 MB/s) - ‘nepali’ saved [3613/3613]\n",
      "\n"
     ]
    }
   ],
   "source": [
    "! wget https://raw.githubusercontent.com/sndsabin/Nepali-News-Classifier/master/nepali"
   ]
  },
  {
   "cell_type": "code",
   "execution_count": 21,
   "metadata": {
    "id": "L_Wkao4XNcos"
   },
   "outputs": [],
   "source": [
    "from nltk.corpus import stopwords\n",
    "#from nltk import TweetTokenizer\n",
    "#tokenizer = TweetTokenizer()"
   ]
  },
  {
   "cell_type": "code",
   "execution_count": null,
   "metadata": {
    "colab": {
     "base_uri": "https://localhost:8080/"
    },
    "id": "Zlg2jpCcgkC6",
    "outputId": "cf5e3a2b-1a09-45b6-ad76-cb383f9141e0"
   },
   "outputs": [],
   "source": []
  },
  {
   "cell_type": "code",
   "execution_count": 34,
   "metadata": {},
   "outputs": [],
   "source": [
    "stopWords = nltk.corpus.stopwords.words('nepali') + stopwords.words('english') + nltk.corpus.stopwords.words('/home/sumit/Documents/nepali sentiment classifier/hindi')\n",
    "\n",
    "tfidfVectorizer = TfidfVectorizer(max_features=50000,tokenizer=lambda x: x.split(\" \") ,sublinear_tf=True, encoding='utf-8',decode_error='ignore',ngram_range=(1, 1),stop_words=stopWords)\n",
    "\n",
    "vectorised = tfidfVectorizer.fit(X_train)\n"
   ]
  },
  {
   "cell_type": "code",
   "execution_count": 35,
   "metadata": {
    "id": "3B5_ddJOgj3I"
   },
   "outputs": [],
   "source": [
    "'''X_train = vectorised.transform(X_TRAIN)\n",
    "X_test= vectorised.transform(X_TEST)'''\n",
    "\n",
    "X_train = vectorised.transform(X_train)\n",
    "X_test= vectorised.transform(X_test)"
   ]
  },
  {
   "cell_type": "code",
   "execution_count": null,
   "metadata": {},
   "outputs": [],
   "source": []
  },
  {
   "cell_type": "code",
   "execution_count": 136,
   "metadata": {
    "id": "r9ysU6BdGDeI"
   },
   "outputs": [],
   "source": [
    "from gensim.models import Word2Vec, KeyedVectors\n",
    "#model = Word2Vec(X_train, size=1000, min_count=5, window=10, sg=0, workers=10)\n",
    "#print(\"Vocabulary dimension\", model.vector_size)\n",
    "#print(\"Number of words in vocab\", len(model.wv.vocab))"
   ]
  },
  {
   "cell_type": "code",
   "execution_count": 137,
   "metadata": {
    "id": "FnR-6_OBGXMH"
   },
   "outputs": [],
   "source": [
    "#model.wv.most_similar('न', topn=10)"
   ]
  },
  {
   "cell_type": "code",
   "execution_count": 33,
   "metadata": {
    "id": "k3ynYdINvGIv"
   },
   "outputs": [],
   "source": [
    "#X_train = cv_vector.transform(X_train)\n",
    "#X_test= cv_vector.transform(X_test)"
   ]
  },
  {
   "cell_type": "code",
   "execution_count": 74,
   "metadata": {
    "colab": {
     "base_uri": "https://localhost:8080/"
    },
    "id": "8I_TBxYUvGL_",
    "outputId": "82e5e713-e051-4ea7-943b-716cc1ccdb08"
   },
   "outputs": [
    {
     "data": {
      "text/plain": [
       "<5990x15283 sparse matrix of type '<class 'numpy.float64'>'\n",
       "\twith 65424 stored elements in Compressed Sparse Row format>"
      ]
     },
     "execution_count": 74,
     "metadata": {},
     "output_type": "execute_result"
    }
   ],
   "source": [
    "X_train"
   ]
  },
  {
   "cell_type": "code",
   "execution_count": 36,
   "metadata": {
    "id": "HNGEgDiA8Ljg"
   },
   "outputs": [],
   "source": [
    "'''label_encoder = LabelEncoder().fit(Y_TRAIN)\n",
    "\n",
    "y_train = label_encoder.transform(Y_TRAIN)\n",
    "y_test = label_encoder.transform(Y_TEST)'''\n",
    "\n",
    "label_encoder = LabelEncoder().fit(y_train)\n",
    "\n",
    "y_train = label_encoder.transform(y_train)\n",
    "y_test = label_encoder.transform(y_test)"
   ]
  },
  {
   "cell_type": "code",
   "execution_count": 37,
   "metadata": {
    "colab": {
     "base_uri": "https://localhost:8080/"
    },
    "id": "gaev856598LT",
    "outputId": "d9515a94-8efd-49d0-ab22-be84457c6e42"
   },
   "outputs": [
    {
     "name": "stdout",
     "output_type": "stream",
     "text": [
      "F1 Score : 0.5885599598595083\n"
     ]
    }
   ],
   "source": [
    "from sklearn.svm import LinearSVC\n",
    "clf=LinearSVC(loss='hinge',random_state=0,max_iter=10000,penalty='l2')\n",
    "clf.fit(X_train, y_train)    # training model on train data\n",
    "\n",
    "clfval = clf.predict(X_test)   # predicting test data\n",
    "print('F1 Score : {}'.format(f1_score(y_test, clfval, average='micro')))  # printing F1 score \n"
   ]
  },
  {
   "cell_type": "code",
   "execution_count": 124,
   "metadata": {
    "colab": {
     "base_uri": "https://localhost:8080/"
    },
    "id": "lit69RfI98IQ",
    "outputId": "980fca35-657f-4057-bc5e-ee51b35dd731"
   },
   "outputs": [
    {
     "name": "stdout",
     "output_type": "stream",
     "text": [
      "F1 Score : 0.5790265930757652\n"
     ]
    }
   ],
   "source": [
    "from sklearn.svm import SVC\n",
    "clf=SVC(kernel='linear',random_state=0,max_iter=10000)\n",
    "clf.fit(X_train, y_train)    # training model on train data\n",
    "\n",
    "clfval = clf.predict(X_test)   # predicting test data\n",
    "print('F1 Score : {}'.format(f1_score(y_test, clfval, average='micro')))  # printing F1 score \n"
   ]
  },
  {
   "cell_type": "code",
   "execution_count": 24,
   "metadata": {
    "colab": {
     "base_uri": "https://localhost:8080/"
    },
    "id": "CvuVYiqGsgE3",
    "outputId": "26111401-e465-430a-9703-da41df5b810c"
   },
   "outputs": [
    {
     "name": "stdout",
     "output_type": "stream",
     "text": [
      "accuracy 0.5913654618473896\n"
     ]
    }
   ],
   "source": [
    "from sklearn.naive_bayes import MultinomialNB\n",
    "nb=MultinomialNB(alpha=1.62,fit_prior=False)\n",
    "nb.fit(X_train,y_train)\n",
    "\n",
    "from sklearn.metrics import classification_report\n",
    "y_pred = nb.predict(X_test)\n",
    "\n",
    "print('accuracy %s' % f1_score(y_test, y_pred,average='micro'))"
   ]
  },
  {
   "cell_type": "code",
   "execution_count": 126,
   "metadata": {
    "colab": {
     "base_uri": "https://localhost:8080/"
    },
    "id": "FAp6Gzs598Fx",
    "outputId": "88e38268-371d-4328-aecd-0e8907ef3130"
   },
   "outputs": [
    {
     "name": "stdout",
     "output_type": "stream",
     "text": [
      "F1 Score : 0.562468640240843\n"
     ]
    },
    {
     "name": "stderr",
     "output_type": "stream",
     "text": [
      "/home/sumit/.local/lib/python3.10/site-packages/sklearn/linear_model/_sag.py:352: ConvergenceWarning: The max_iter was reached which means the coef_ did not converge\n",
      "  warnings.warn(\n"
     ]
    }
   ],
   "source": [
    "from sklearn.linear_model import LogisticRegression\n",
    "lrr=LogisticRegression(solver='saga', n_jobs=1, C=1e5)\n",
    "lrr.fit(X_train, y_train)\n",
    "lrrval = lrr.predict(X_test)\n",
    "print('F1 Score : {}'.format(f1_score(y_test, lrrval, average='micro')))"
   ]
  },
  {
   "cell_type": "code",
   "execution_count": 127,
   "metadata": {
    "colab": {
     "base_uri": "https://localhost:8080/"
    },
    "id": "lse2rsYu98DD",
    "outputId": "b60da559-3d05-454f-836b-4a3d6357c1bc"
   },
   "outputs": [
    {
     "name": "stdout",
     "output_type": "stream",
     "text": [
      "F1 Score : 0.5664826894129453\n"
     ]
    }
   ],
   "source": [
    "from sklearn.naive_bayes import BernoulliNB\n",
    "clf = BernoulliNB(alpha=0.9,fit_prior=False)\n",
    "clf.fit(X_train, y_train)\n",
    "clfval = clf.predict(X_test)\n",
    "print('F1 Score : {}'.format(f1_score(y_test, clfval, average='micro')))"
   ]
  },
  {
   "cell_type": "code",
   "execution_count": 128,
   "metadata": {
    "colab": {
     "base_uri": "https://localhost:8080/"
    },
    "id": "Bp0aJZwN98Ad",
    "outputId": "b9e696ba-ae94-46d8-b014-4d73c8b18ed3"
   },
   "outputs": [
    {
     "name": "stdout",
     "output_type": "stream",
     "text": [
      "F1 Score : 0.5664826894129453\n"
     ]
    }
   ],
   "source": [
    "from sklearn.naive_bayes import ComplementNB\n",
    "cllf = ComplementNB(alpha=1.0, fit_prior=False,norm=True)\n",
    "cllf.fit(X_train, y_train)\n",
    "cllfval = clf.predict(X_test)\n",
    "print('F1 Score : {}'.format(f1_score(y_test, cllfval, average='micro')))"
   ]
  },
  {
   "cell_type": "code",
   "execution_count": 129,
   "metadata": {
    "colab": {
     "base_uri": "https://localhost:8080/"
    },
    "id": "-tu2ghVd9794",
    "outputId": "759206fa-9e9e-4dff-9b75-6f733449e6ce"
   },
   "outputs": [
    {
     "name": "stdout",
     "output_type": "stream",
     "text": [
      "F1 Score : 0.564977420973407\n"
     ]
    }
   ],
   "source": [
    "from sklearn.linear_model import PassiveAggressiveClassifier\n",
    "cclf = PassiveAggressiveClassifier(max_iter=2500, random_state=43,tol=1e-5)\n",
    "cclf.fit(X_train, y_train)\n",
    "\n",
    "cllfval = cclf.predict(X_test)\n",
    "print('F1 Score : {}'.format(f1_score(y_test, cllfval, average='micro')))"
   ]
  },
  {
   "cell_type": "code",
   "execution_count": null,
   "metadata": {
    "id": "C17lU2xO977L"
   },
   "outputs": [],
   "source": []
  },
  {
   "cell_type": "code",
   "execution_count": 84,
   "metadata": {
    "colab": {
     "base_uri": "https://localhost:8080/"
    },
    "id": "I9xpNFkyayA-",
    "outputId": "ccb3d928-8677-46e0-cb80-f77aec88b7b7"
   },
   "outputs": [
    {
     "name": "stdout",
     "output_type": "stream",
     "text": [
      "F1 Score : 0.5037631710988459\n"
     ]
    }
   ],
   "source": [
    "from sklearn.ensemble import GradientBoostingClassifier\n",
    "clf = GradientBoostingClassifier(n_estimators=100, learning_rate=1.2,max_depth=10, random_state=0).fit(X_train, y_train)\n",
    "\n",
    "gbpred=clf.predict(X_test)\n",
    "print('F1 Score : {}'.format(f1_score(y_test, gbpred, average='micro')))"
   ]
  },
  {
   "cell_type": "code",
   "execution_count": 85,
   "metadata": {
    "colab": {
     "base_uri": "https://localhost:8080/"
    },
    "id": "_vqv5sTrax-F",
    "outputId": "6de805a3-7848-4b28-9c41-e4d566e245cd"
   },
   "outputs": [
    {
     "name": "stdout",
     "output_type": "stream",
     "text": [
      "F1 Score : 0.5363773206221776\n"
     ]
    }
   ],
   "source": [
    "\n",
    "from sklearn.linear_model import Perceptron\n",
    "\n",
    "percept = Perceptron(alpha=0.00001, tol=1e-6, penalty='l2', random_state=1, max_iter=3000)\n",
    "percept = percept.fit(X_train, y_train)\n",
    "\n",
    "cpfval = percept.predict(X_test)\n",
    "print('F1 Score : {}'.format(f1_score(y_test, cpfval, average='micro')))"
   ]
  },
  {
   "cell_type": "code",
   "execution_count": 130,
   "metadata": {
    "id": "shlLKSP3ax2B"
   },
   "outputs": [
    {
     "name": "stdout",
     "output_type": "stream",
     "text": [
      "F1 Score : 0.5730055193176117\n"
     ]
    }
   ],
   "source": [
    "from sklearn.ensemble import RandomForestClassifier\n",
    "\n",
    "clf = RandomForestClassifier(max_depth=150, random_state=2,max_features='sqrt',class_weight='balanced')\n",
    "clf.fit(X_train, y_train)\n",
    "\n",
    "pred=clf.predict(X_test)\n",
    "print('F1 Score : {}'.format(f1_score(y_test, pred, average='micro')))"
   ]
  },
  {
   "cell_type": "code",
   "execution_count": null,
   "metadata": {},
   "outputs": [],
   "source": []
  },
  {
   "cell_type": "code",
   "execution_count": null,
   "metadata": {},
   "outputs": [],
   "source": []
  },
  {
   "cell_type": "code",
   "execution_count": null,
   "metadata": {},
   "outputs": [],
   "source": []
  },
  {
   "cell_type": "code",
   "execution_count": null,
   "metadata": {},
   "outputs": [],
   "source": []
  },
  {
   "cell_type": "code",
   "execution_count": null,
   "metadata": {},
   "outputs": [],
   "source": []
  },
  {
   "cell_type": "code",
   "execution_count": null,
   "metadata": {},
   "outputs": [],
   "source": []
  },
  {
   "cell_type": "code",
   "execution_count": null,
   "metadata": {},
   "outputs": [],
   "source": []
  },
  {
   "cell_type": "code",
   "execution_count": null,
   "metadata": {},
   "outputs": [],
   "source": []
  },
  {
   "cell_type": "code",
   "execution_count": 25,
   "metadata": {
    "colab": {
     "base_uri": "https://localhost:8080/",
     "height": 783
    },
    "id": "bfghz32IaxzY",
    "outputId": "335ea1d8-b7db-4cb5-ac08-56396edda3be"
   },
   "outputs": [
    {
     "name": "stdout",
     "output_type": "stream",
     "text": [
      "              precision    recall  f1-score   support\n",
      "\n",
      "           0       0.49      0.76      0.59       609\n",
      "           1       0.72      0.73      0.72       887\n",
      "           2       0.49      0.14      0.22       496\n",
      "\n",
      "    accuracy                           0.59      1992\n",
      "   macro avg       0.56      0.54      0.51      1992\n",
      "weighted avg       0.59      0.59      0.56      1992\n",
      "\n"
     ]
    },
    {
     "data": {
      "text/plain": [
       "<AxesSubplot:>"
      ]
     },
     "execution_count": 25,
     "metadata": {},
     "output_type": "execute_result"
    },
    {
     "data": {
      "image/png": "[encoded data removed]",
      "text/plain": [
       "<Figure size 1080x720 with 2 Axes>"
      ]
     },
     "metadata": {
      "needs_background": "light"
     },
     "output_type": "display_data"
    }
   ],
   "source": [
    "from sklearn.metrics import classification_report\n",
    "print(classification_report(y_test, y_pred))\n",
    "\n",
    "#countvector\n",
    "import seaborn as sns\n",
    "from sklearn.metrics import confusion_matrix\n",
    "cf_matrix = confusion_matrix(y_test, y_pred)\n",
    "fig, ax = plt.subplots(figsize=(15,10)) \n",
    "sns.heatmap(cf_matrix, linewidths=1, annot=True, ax=ax, fmt='g')"
   ]
  },
  {
   "cell_type": "code",
   "execution_count": null,
   "metadata": {},
   "outputs": [],
   "source": []
  },
  {
   "cell_type": "code",
   "execution_count": 29,
   "metadata": {},
   "outputs": [],
   "source": [
    "from imblearn.over_sampling import SMOTE\n",
    "from imblearn.under_sampling import RandomUnderSampler\n",
    "from collections import Counter"
   ]
  },
  {
   "cell_type": "code",
   "execution_count": 50,
   "metadata": {},
   "outputs": [],
   "source": [
    "def sampling_strategy(y,n_samples, t='majority'):\n",
    "    target_classes = ''\n",
    "    if t == 'majority':\n",
    "        target_classes = {k:v for k,v in dict(Counter(y)).items() if v > n_samples}\n",
    "    elif t == 'minority':\n",
    "        # Since SMOTE depends on KNN, filtering out those samples that occur less than 10 times\n",
    "        target_classes = {k:v for k,v in dict(Counter(y)).items() if v < n_samples and v > 1236}\n",
    "    sampling_strategy = {k:n_samples for k,v in target_classes.items()}\n",
    "    return sampling_strategy"
   ]
  },
  {
   "cell_type": "code",
   "execution_count": 51,
   "metadata": {},
   "outputs": [],
   "source": [
    "over_sampler_ss = sampling_strategy(y_train,1000,t='minority')\n",
    "under_sampler_ss = sampling_strategy(y_train,8000,t='majority')\n",
    "over = SMOTE(sampling_strategy=over_sampler_ss)\n",
    "under = RandomUnderSampler(sampling_strategy=under_sampler_ss, random_state=42)"
   ]
  },
  {
   "cell_type": "code",
   "execution_count": 52,
   "metadata": {},
   "outputs": [],
   "source": [
    "X_over, y_over = over.fit_resample(X_train, y_train)"
   ]
  },
  {
   "cell_type": "code",
   "execution_count": 53,
   "metadata": {},
   "outputs": [
    {
     "data": {
      "text/plain": [
       "<5989x15247 sparse matrix of type '<class 'numpy.float64'>'\n",
       "\twith 65146 stored elements in Compressed Sparse Row format>"
      ]
     },
     "execution_count": 53,
     "metadata": {},
     "output_type": "execute_result"
    }
   ],
   "source": [
    "X_over"
   ]
  },
  {
   "cell_type": "code",
   "execution_count": 35,
   "metadata": {},
   "outputs": [
    {
     "data": {
      "text/plain": [
       "5989"
      ]
     },
     "execution_count": 35,
     "metadata": {},
     "output_type": "execute_result"
    }
   ],
   "source": [
    "len(y_over)"
   ]
  },
  {
   "cell_type": "code",
   "execution_count": 54,
   "metadata": {},
   "outputs": [
    {
     "name": "stdout",
     "output_type": "stream",
     "text": [
      "accuracy 0.5913654618473896\n"
     ]
    }
   ],
   "source": [
    "from sklearn.naive_bayes import MultinomialNB\n",
    "nb=MultinomialNB(alpha=1.62,fit_prior=False)\n",
    "nb.fit(X_over,y_over)\n",
    "\n",
    "from sklearn.metrics import classification_report\n",
    "y_pred = nb.predict(X_test)\n",
    "\n",
    "print('accuracy %s' % f1_score(y_test, y_pred,average='micro'))"
   ]
  },
  {
   "cell_type": "code",
   "execution_count": null,
   "metadata": {},
   "outputs": [],
   "source": []
  },
  {
   "cell_type": "code",
   "execution_count": null,
   "metadata": {},
   "outputs": [],
   "source": []
  }
 ],
 "metadata": {
  "colab": {
   "collapsed_sections": [],
   "name": "nepali_sentiment_classifier.ipynb",
   "provenance": []
  },
  "kernelspec": {
   "display_name": "Python 3 (ipykernel)",
   "language": "python",
   "name": "python3"
  },
  "language_info": {
   "codemirror_mode": {
    "name": "ipython",
    "version": 3
   },
   "file_extension": ".py",
   "mimetype": "text/x-python",
   "name": "python",
   "nbconvert_exporter": "python",
   "pygments_lexer": "ipython3",
   "version": "3.10.8"
  }
 },
 "nbformat": 4,
 "nbformat_minor": 1
}
